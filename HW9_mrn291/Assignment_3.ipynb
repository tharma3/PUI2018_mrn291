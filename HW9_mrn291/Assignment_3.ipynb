{
 "cells": [
  {
   "cell_type": "code",
   "execution_count": 159,
   "metadata": {},
   "outputs": [
    {
     "name": "stdout",
     "output_type": "stream",
     "text": [
      "Populating the interactive namespace from numpy and matplotlib\n"
     ]
    },
    {
     "name": "stderr",
     "output_type": "stream",
     "text": [
      "/usr/local/Anaconda3-5.0.0-Linux-x86_64/envs/PUI2016_Python3/lib/python3.5/site-packages/IPython/html.py:14: ShimWarning: The `IPython.html` package has been deprecated. You should import from `notebook` instead. `IPython.html.widgets` has moved to `ipywidgets`.\n",
      "  \"`IPython.html.widgets` has moved to `ipywidgets`.\", ShimWarning)\n",
      "/usr/local/Anaconda3-5.0.0-Linux-x86_64/envs/PUI2016_Python3/lib/python3.5/site-packages/IPython/core/magics/pylab.py:161: UserWarning: pylab import has clobbered these variables: ['scatter']\n",
      "`%matplotlib` prevents importing * from pylab and numpy\n",
      "  \"\\n`%matplotlib` prevents importing * from pylab and numpy\"\n"
     ]
    }
   ],
   "source": [
    "import pandas as pd\n",
    "import numpy as np\n",
    "import os\n",
    "import requests\n",
    "try:\n",
    "    import urllib2\n",
    "except ImportError:\n",
    "    import urllib\n",
    "from functools import reduce\n",
    "from matplotlib import pyplot as plt\n",
    "import seaborn as sns\n",
    "%pylab inline"
   ]
  },
  {
   "cell_type": "markdown",
   "metadata": {},
   "source": [
    "#### Read in data"
   ]
  },
  {
   "cell_type": "code",
   "execution_count": 33,
   "metadata": {},
   "outputs": [],
   "source": [
    "url = 'https://serv.cusp.nyu.edu/~fbianco/PUIdata/WorldFirearmsMurdersAndOwnership.csv'"
   ]
  },
  {
   "cell_type": "code",
   "execution_count": 34,
   "metadata": {},
   "outputs": [],
   "source": [
    "fire_arm_data = pd.read_csv(url)"
   ]
  },
  {
   "cell_type": "code",
   "execution_count": 35,
   "metadata": {},
   "outputs": [
    {
     "data": {
      "text/html": [
       "<div>\n",
       "<table border=\"1\" class=\"dataframe\">\n",
       "  <thead>\n",
       "    <tr style=\"text-align: right;\">\n",
       "      <th></th>\n",
       "      <th>Country</th>\n",
       "      <th>ISO code</th>\n",
       "      <th>Source</th>\n",
       "      <th>% of homicides by firearm</th>\n",
       "      <th>Number of homicides by firearm</th>\n",
       "      <th>Homicide by firearm rate per 100,000 pop</th>\n",
       "      <th>Rank by rate of ownership</th>\n",
       "      <th>Average firearms per 100 people</th>\n",
       "      <th>Average total all civilian firearms</th>\n",
       "    </tr>\n",
       "  </thead>\n",
       "  <tbody>\n",
       "    <tr>\n",
       "      <th>0</th>\n",
       "      <td>Albania</td>\n",
       "      <td>AL</td>\n",
       "      <td>CTS</td>\n",
       "      <td>65.9</td>\n",
       "      <td>56.0</td>\n",
       "      <td>1.76</td>\n",
       "      <td>70.0</td>\n",
       "      <td>8.6</td>\n",
       "      <td>270000.0</td>\n",
       "    </tr>\n",
       "    <tr>\n",
       "      <th>1</th>\n",
       "      <td>Algeria</td>\n",
       "      <td>DZ</td>\n",
       "      <td>CTS</td>\n",
       "      <td>4.8</td>\n",
       "      <td>20.0</td>\n",
       "      <td>0.06</td>\n",
       "      <td>78.0</td>\n",
       "      <td>7.6</td>\n",
       "      <td>1900000.0</td>\n",
       "    </tr>\n",
       "    <tr>\n",
       "      <th>2</th>\n",
       "      <td>Angola</td>\n",
       "      <td>AO</td>\n",
       "      <td>NaN</td>\n",
       "      <td>NaN</td>\n",
       "      <td>NaN</td>\n",
       "      <td>NaN</td>\n",
       "      <td>34.0</td>\n",
       "      <td>17.3</td>\n",
       "      <td>2800000.0</td>\n",
       "    </tr>\n",
       "    <tr>\n",
       "      <th>3</th>\n",
       "      <td>Anguilla</td>\n",
       "      <td>AI</td>\n",
       "      <td>WHO-MDB</td>\n",
       "      <td>24.0</td>\n",
       "      <td>1.0</td>\n",
       "      <td>7.14</td>\n",
       "      <td>NaN</td>\n",
       "      <td>NaN</td>\n",
       "      <td>NaN</td>\n",
       "    </tr>\n",
       "    <tr>\n",
       "      <th>4</th>\n",
       "      <td>Argentina</td>\n",
       "      <td>AR</td>\n",
       "      <td>Ministry of Justice</td>\n",
       "      <td>52.0</td>\n",
       "      <td>1198.0</td>\n",
       "      <td>3.02</td>\n",
       "      <td>62.0</td>\n",
       "      <td>10.2</td>\n",
       "      <td>3950000.0</td>\n",
       "    </tr>\n",
       "  </tbody>\n",
       "</table>\n",
       "</div>"
      ],
      "text/plain": [
       "     Country ISO code               Source  % of homicides by firearm  \\\n",
       "0    Albania       AL                  CTS                       65.9   \n",
       "1    Algeria       DZ                  CTS                        4.8   \n",
       "2     Angola       AO                  NaN                        NaN   \n",
       "3   Anguilla       AI              WHO-MDB                       24.0   \n",
       "4  Argentina       AR  Ministry of Justice                       52.0   \n",
       "\n",
       "   Number of homicides by firearm  Homicide by firearm rate per 100,000 pop  \\\n",
       "0                            56.0                                      1.76   \n",
       "1                            20.0                                      0.06   \n",
       "2                             NaN                                       NaN   \n",
       "3                             1.0                                      7.14   \n",
       "4                          1198.0                                      3.02   \n",
       "\n",
       "   Rank by rate of ownership  Average firearms per 100 people  \\\n",
       "0                       70.0                              8.6   \n",
       "1                       78.0                              7.6   \n",
       "2                       34.0                             17.3   \n",
       "3                        NaN                              NaN   \n",
       "4                       62.0                             10.2   \n",
       "\n",
       "   Average total all civilian firearms  \n",
       "0                             270000.0  \n",
       "1                            1900000.0  \n",
       "2                            2800000.0  \n",
       "3                                  NaN  \n",
       "4                            3950000.0  "
      ]
     },
     "execution_count": 35,
     "metadata": {},
     "output_type": "execute_result"
    }
   ],
   "source": [
    "fire_arm_data.rename(columns={'Country/Territory':'Country'}, inplace=True)\n",
    "fire_arm_data.head()"
   ]
  },
  {
   "cell_type": "code",
   "execution_count": 74,
   "metadata": {},
   "outputs": [],
   "source": [
    "#change directory to PUIDATA\n",
    "os.environ[\"PUIDATA\"] = \"%s/PUIData\"%os.getenv(\"HOME\")\n",
    "os.chdir(os.getenv(\"PUIDATA\"))"
   ]
  },
  {
   "cell_type": "code",
   "execution_count": 75,
   "metadata": {},
   "outputs": [
    {
     "data": {
      "text/html": [
       "<div>\n",
       "<table border=\"1\" class=\"dataframe\">\n",
       "  <thead>\n",
       "    <tr style=\"text-align: right;\">\n",
       "      <th></th>\n",
       "      <th>Country</th>\n",
       "      <th>Guns per 100 inhabitants</th>\n",
       "      <th>Number of mass shootings (1983-2013)</th>\n",
       "    </tr>\n",
       "  </thead>\n",
       "  <tbody>\n",
       "    <tr>\n",
       "      <th>0</th>\n",
       "      <td>Australia</td>\n",
       "      <td>15.0</td>\n",
       "      <td>4</td>\n",
       "    </tr>\n",
       "    <tr>\n",
       "      <th>1</th>\n",
       "      <td>Austria</td>\n",
       "      <td>30.4</td>\n",
       "      <td>1</td>\n",
       "    </tr>\n",
       "    <tr>\n",
       "      <th>2</th>\n",
       "      <td>Belgium</td>\n",
       "      <td>17.2</td>\n",
       "      <td>2</td>\n",
       "    </tr>\n",
       "    <tr>\n",
       "      <th>3</th>\n",
       "      <td>Canada</td>\n",
       "      <td>30.8</td>\n",
       "      <td>4</td>\n",
       "    </tr>\n",
       "    <tr>\n",
       "      <th>4</th>\n",
       "      <td>Denmark</td>\n",
       "      <td>12.0</td>\n",
       "      <td>0</td>\n",
       "    </tr>\n",
       "  </tbody>\n",
       "</table>\n",
       "</div>"
      ],
      "text/plain": [
       "     Country  Guns per 100 inhabitants  Number of mass shootings (1983-2013)\n",
       "0  Australia                      15.0                                     4\n",
       "1    Austria                      30.4                                     1\n",
       "2    Belgium                      17.2                                     2\n",
       "3     Canada                      30.8                                     4\n",
       "4    Denmark                      12.0                                     0"
      ]
     },
     "execution_count": 75,
     "metadata": {},
     "output_type": "execute_result"
    }
   ],
   "source": [
    "#download the guns owned vs mass shootings\n",
    "download_url = 'data:application/octet-stream;charset=utf-8,Country%2CGuns%20per%20100%20inhabitants%2CNumber%20of%20mass%20shootings%20(1983-2013)%0AAustralia%2C15%2C4%0AAustria%2C30.4%2C1%0ABelgium%2C17.2%2C2%0ACanada%2C30.8%2C4%0ADenmark%2C12%2C0%0AFinland%2C45.3%2C2%0AFrance%2C31.2%2C6%0AGermany%2C30.3%2C7%0AGreece%2C22.5%2C0%0AHolland%2C3.9%2C2%0AHungary%2C5.5%2C0%0AIceland%2C30.3%2C0%0AIreland%2C8.6%2C0%0AItaly%2C11.9%2C0%0AJapan%2C0.6%2C0%0ALuxembourg%2C15.3%2C0%0ANew%20Zealand%2C22.6%2C3%0ANorway%2C31.3%2C1%0APoland%2C1.3%2C0%0APortugal%2C8.5%2C1%0ASpain%2C10.4%2C1%0ASweden%2C31.6%2C2%0ASwitzerland%2C45.7%2C2%0AUnited%20Kingdom%2C6.2%2C3%0AUnited%20States%2C88.8%2C78'\n",
    "urllib.request.urlretrieve(download_url, \"guns_by_shootings.csv\")\n",
    "\n",
    "guns_by_shootings = pd.read_csv('guns_by_shootings.csv')\n",
    "guns_by_shootings.head()"
   ]
  },
  {
   "cell_type": "code",
   "execution_count": 76,
   "metadata": {},
   "outputs": [
    {
     "data": {
      "text/html": [
       "<div>\n",
       "<table border=\"1\" class=\"dataframe\">\n",
       "  <thead>\n",
       "    <tr style=\"text-align: right;\">\n",
       "      <th></th>\n",
       "      <th>Country</th>\n",
       "      <th>total_pop</th>\n",
       "    </tr>\n",
       "  </thead>\n",
       "  <tbody>\n",
       "    <tr>\n",
       "      <th>0</th>\n",
       "      <td>Aruba</td>\n",
       "      <td>102577.0</td>\n",
       "    </tr>\n",
       "    <tr>\n",
       "      <th>1</th>\n",
       "      <td>Afghanistan</td>\n",
       "      <td>30696958.0</td>\n",
       "    </tr>\n",
       "    <tr>\n",
       "      <th>2</th>\n",
       "      <td>Angola</td>\n",
       "      <td>25096150.0</td>\n",
       "    </tr>\n",
       "    <tr>\n",
       "      <th>3</th>\n",
       "      <td>Albania</td>\n",
       "      <td>2900401.0</td>\n",
       "    </tr>\n",
       "    <tr>\n",
       "      <th>4</th>\n",
       "      <td>Andorra</td>\n",
       "      <td>82431.0</td>\n",
       "    </tr>\n",
       "  </tbody>\n",
       "</table>\n",
       "</div>"
      ],
      "text/plain": [
       "       Country   total_pop\n",
       "0        Aruba    102577.0\n",
       "1  Afghanistan  30696958.0\n",
       "2       Angola  25096150.0\n",
       "3      Albania   2900401.0\n",
       "4      Andorra     82431.0"
      ]
     },
     "execution_count": 76,
     "metadata": {},
     "output_type": "execute_result"
    }
   ],
   "source": [
    "#download the population data\n",
    "pop_download = 'http://api.worldbank.org/v2/en/indicator/SP.POP.TOTL?downloadformat=csv'\n",
    "\n",
    "urllib.request.urlretrieve(pop_download, 'world_population.zip')\n",
    "os.system(\"unzip \" + os.getenv(\"PUIDATA\") + \"/world_population.zip\")\n",
    "\n",
    "world_pop = pd.read_csv('API_SP.POP.TOTL_DS2_en_csv_v2_10203548.csv', skiprows=[0,1,2])\n",
    "\n",
    "world_pop.rename(columns={'Country Name':'Country', '2012':'total_pop'}, inplace=True)\n",
    "cols = ['Country', 'total_pop']\n",
    "world_pop = world_pop[cols]\n",
    "world_pop.head()"
   ]
  },
  {
   "cell_type": "code",
   "execution_count": 77,
   "metadata": {},
   "outputs": [
    {
     "data": {
      "text/html": [
       "<div>\n",
       "<table border=\"1\" class=\"dataframe\">\n",
       "  <thead>\n",
       "    <tr style=\"text-align: right;\">\n",
       "      <th></th>\n",
       "      <th>Country</th>\n",
       "      <th>total_gdp</th>\n",
       "    </tr>\n",
       "  </thead>\n",
       "  <tbody>\n",
       "    <tr>\n",
       "      <th>0</th>\n",
       "      <td>Aruba</td>\n",
       "      <td>NaN</td>\n",
       "    </tr>\n",
       "    <tr>\n",
       "      <th>1</th>\n",
       "      <td>Afghanistan</td>\n",
       "      <td>2.053654e+10</td>\n",
       "    </tr>\n",
       "    <tr>\n",
       "      <th>2</th>\n",
       "      <td>Angola</td>\n",
       "      <td>1.139232e+11</td>\n",
       "    </tr>\n",
       "    <tr>\n",
       "      <th>3</th>\n",
       "      <td>Albania</td>\n",
       "      <td>1.231978e+10</td>\n",
       "    </tr>\n",
       "    <tr>\n",
       "      <th>4</th>\n",
       "      <td>Andorra</td>\n",
       "      <td>3.164615e+09</td>\n",
       "    </tr>\n",
       "  </tbody>\n",
       "</table>\n",
       "</div>"
      ],
      "text/plain": [
       "       Country     total_gdp\n",
       "0        Aruba           NaN\n",
       "1  Afghanistan  2.053654e+10\n",
       "2       Angola  1.139232e+11\n",
       "3      Albania  1.231978e+10\n",
       "4      Andorra  3.164615e+09"
      ]
     },
     "execution_count": 77,
     "metadata": {},
     "output_type": "execute_result"
    }
   ],
   "source": [
    "#download GDP data\n",
    "gdp_download = 'http://api.worldbank.org/v2/en/indicator/NY.GDP.MKTP.CD?downloadformat=csv'\n",
    "\n",
    "urllib.request.urlretrieve(gdp_download, 'world_gdp.zip')\n",
    "os.system(\"unzip \" + os.getenv(\"PUIDATA\") + \"/world_gdp.zip\")\n",
    "\n",
    "world_gdp = pd.read_csv('API_NY.GDP.MKTP.CD_DS2_en_csv_v2_10203569.csv', skiprows=[0,1,2])\n",
    "world_gdp.rename(columns={'Country Name':'Country', '2012':'total_gdp'}, inplace=True)\n",
    "cols = ['Country', 'total_gdp']\n",
    "world_gdp = world_gdp[cols]\n",
    "world_gdp.head()"
   ]
  },
  {
   "cell_type": "code",
   "execution_count": 78,
   "metadata": {},
   "outputs": [],
   "source": [
    "#merge all the data together\n",
    "dfs = [fire_arm_data, guns_by_shootings, world_pop, world_gdp]\n",
    "world_gun = reduce(lambda left,right: pd.merge(left,right,on='Country'), dfs)"
   ]
  },
  {
   "cell_type": "code",
   "execution_count": 79,
   "metadata": {},
   "outputs": [],
   "source": [
    "world_gun.rename(columns={'Number of mass shootings (1983-2013)':'mass_shootings',\n",
    "                          'Guns per 100 inhabitants':'guns_per_100', \n",
    "                          'Number of homicides by firearm':'hom_by_firearm',\n",
    "                          'Average total all civilian firearms':'avg_total_firearms'}, inplace=True)"
   ]
  },
  {
   "cell_type": "code",
   "execution_count": 67,
   "metadata": {},
   "outputs": [
    {
     "data": {
      "text/plain": [
       "['Country',\n",
       " 'ISO code',\n",
       " 'Source',\n",
       " '% of homicides by firearm',\n",
       " 'hom_by_firearm',\n",
       " 'Homicide by firearm rate per 100,000 pop',\n",
       " 'Rank by rate of ownership',\n",
       " 'Average firearms per 100 people',\n",
       " 'avg_total_firearms',\n",
       " 'guns_per_100',\n",
       " 'mass_shootings',\n",
       " 'total_pop',\n",
       " 'total_gdp']"
      ]
     },
     "execution_count": 67,
     "metadata": {},
     "output_type": "execute_result"
    }
   ],
   "source": [
    "list(world_gun.columns)"
   ]
  },
  {
   "cell_type": "code",
   "execution_count": 80,
   "metadata": {},
   "outputs": [
    {
     "data": {
      "text/html": [
       "<div>\n",
       "<table border=\"1\" class=\"dataframe\">\n",
       "  <thead>\n",
       "    <tr style=\"text-align: right;\">\n",
       "      <th></th>\n",
       "      <th>Country</th>\n",
       "      <th>total_pop</th>\n",
       "      <th>total_gdp</th>\n",
       "      <th>hom_by_firearm</th>\n",
       "      <th>avg_total_firearms</th>\n",
       "      <th>guns_per_100</th>\n",
       "      <th>mass_shootings</th>\n",
       "    </tr>\n",
       "  </thead>\n",
       "  <tbody>\n",
       "    <tr>\n",
       "      <th>0</th>\n",
       "      <td>Australia</td>\n",
       "      <td>22742475.0</td>\n",
       "      <td>1.543411e+12</td>\n",
       "      <td>30.0</td>\n",
       "      <td>3050000.0</td>\n",
       "      <td>15.0</td>\n",
       "      <td>4</td>\n",
       "    </tr>\n",
       "    <tr>\n",
       "      <th>1</th>\n",
       "      <td>Austria</td>\n",
       "      <td>8429991.0</td>\n",
       "      <td>4.094252e+11</td>\n",
       "      <td>18.0</td>\n",
       "      <td>2500000.0</td>\n",
       "      <td>30.4</td>\n",
       "      <td>1</td>\n",
       "    </tr>\n",
       "    <tr>\n",
       "      <th>2</th>\n",
       "      <td>Belgium</td>\n",
       "      <td>11128246.0</td>\n",
       "      <td>4.978842e+11</td>\n",
       "      <td>70.0</td>\n",
       "      <td>1800000.0</td>\n",
       "      <td>17.2</td>\n",
       "      <td>2</td>\n",
       "    </tr>\n",
       "    <tr>\n",
       "      <th>3</th>\n",
       "      <td>Canada</td>\n",
       "      <td>34750545.0</td>\n",
       "      <td>1.824289e+12</td>\n",
       "      <td>173.0</td>\n",
       "      <td>9950000.0</td>\n",
       "      <td>30.8</td>\n",
       "      <td>4</td>\n",
       "    </tr>\n",
       "    <tr>\n",
       "      <th>4</th>\n",
       "      <td>Denmark</td>\n",
       "      <td>5591572.0</td>\n",
       "      <td>3.271489e+11</td>\n",
       "      <td>15.0</td>\n",
       "      <td>650000.0</td>\n",
       "      <td>12.0</td>\n",
       "      <td>0</td>\n",
       "    </tr>\n",
       "  </tbody>\n",
       "</table>\n",
       "</div>"
      ],
      "text/plain": [
       "     Country   total_pop     total_gdp  hom_by_firearm  avg_total_firearms  \\\n",
       "0  Australia  22742475.0  1.543411e+12            30.0           3050000.0   \n",
       "1    Austria   8429991.0  4.094252e+11            18.0           2500000.0   \n",
       "2    Belgium  11128246.0  4.978842e+11            70.0           1800000.0   \n",
       "3     Canada  34750545.0  1.824289e+12           173.0           9950000.0   \n",
       "4    Denmark   5591572.0  3.271489e+11            15.0            650000.0   \n",
       "\n",
       "   guns_per_100  mass_shootings  \n",
       "0          15.0               4  \n",
       "1          30.4               1  \n",
       "2          17.2               2  \n",
       "3          30.8               4  \n",
       "4          12.0               0  "
      ]
     },
     "execution_count": 80,
     "metadata": {},
     "output_type": "execute_result"
    }
   ],
   "source": [
    "cols = ['Country', 'total_pop', 'total_gdp', 'hom_by_firearm','avg_total_firearms',\n",
    "        'guns_per_100','mass_shootings']\n",
    "world_gun = world_gun[cols]\n",
    "world_gun.head()"
   ]
  },
  {
   "cell_type": "markdown",
   "metadata": {},
   "source": [
    "#### Plot mass shootings versus GDP in absolute numbers, and per person.  Show the errorbars (y errors)"
   ]
  },
  {
   "cell_type": "markdown",
   "metadata": {},
   "source": [
    "##### Mass Shootings versus GDP in Absolute Numbers"
   ]
  },
  {
   "cell_type": "code",
   "execution_count": 81,
   "metadata": {},
   "outputs": [
    {
     "data": {
      "image/png": "[encoded data removed]",
      "text/plain": [
       "<matplotlib.figure.Figure at 0x7fad58885278>"
      ]
     },
     "metadata": {},
     "output_type": "display_data"
    }
   ],
   "source": [
    "fig = plt.figure(figsize=(10,5))\n",
    "ax = fig.add_subplot(111)\n",
    "\n",
    "scatter = ax.scatter(world_gun.total_gdp / 1e9, world_gun.mass_shootings)\n",
    "ax.errorbar(world_gun.total_gdp / 1e9, world_gun.mass_shootings,\n",
    "           yerr = np.sqrt(world_gun.mass_shootings * 1.0), fmt = '.')\n",
    "ax.set_xlabel(\"GDP in US Dollars (Billions)\")\n",
    "ax.set_ylabel(\"Number of Mass Shootings\")\n",
    "ax.set_ylim()\n",
    "plt.show()\n"
   ]
  },
  {
   "cell_type": "markdown",
   "metadata": {},
   "source": [
    "Figure showing the number of mass shootings by country versus the total GDP of the country.  Error bars represent the Poisson statistics on the number of mass shootings.  The outlier on the top right corner is the United States, with the highest GDP as well as the highest number of mass shootings."
   ]
  },
  {
   "cell_type": "markdown",
   "metadata": {},
   "source": [
    "##### Mass Shootings versus GDP per Person"
   ]
  },
  {
   "cell_type": "code",
   "execution_count": 82,
   "metadata": {},
   "outputs": [
    {
     "data": {
      "image/png": "[encoded data removed]",
      "text/plain": [
       "<matplotlib.figure.Figure at 0x7fad58390940>"
      ]
     },
     "metadata": {},
     "output_type": "display_data"
    }
   ],
   "source": [
    "fig = plt.figure(figsize=(10,5))\n",
    "ax = fig.add_subplot(111)\n",
    "\n",
    "scatter = ax.scatter(world_gun.total_gdp / world_gun.total_pop, world_gun.mass_shootings)\n",
    "ax.errorbar(world_gun.total_gdp / world_gun.total_pop, world_gun.mass_shootings,\n",
    "           yerr = np.sqrt(world_gun.mass_shootings * 1.0), fmt = '.')\n",
    "ax.set_xlabel(\"GDP per Person in US Dollars\")\n",
    "ax.set_ylabel(\"Number of Mass Shootings\")\n",
    "ax.set_ylim()\n",
    "plt.show()\n"
   ]
  },
  {
   "cell_type": "markdown",
   "metadata": {},
   "source": [
    "Figure showing the number of mass shootings by country versus the total GDP per person of the country.  Error bars represent the Poisson statistics on the number of mass shootings.  The outlier on the top middle is the United States, with the highest number of mass shootings."
   ]
  },
  {
   "cell_type": "markdown",
   "metadata": {},
   "source": [
    "#### Plot the average number of civilian firearms per person."
   ]
  },
  {
   "cell_type": "markdown",
   "metadata": {},
   "source": [
    "##### Average number of civilian firearms per person without errors."
   ]
  },
  {
   "cell_type": "code",
   "execution_count": 100,
   "metadata": {},
   "outputs": [
    {
     "data": {
      "image/png": "[encoded data removed]",
      "text/plain": [
       "<matplotlib.figure.Figure at 0x7fad588914a8>"
      ]
     },
     "metadata": {},
     "output_type": "display_data"
    }
   ],
   "source": [
    "fig = plt.figure(figsize=(10,5))\n",
    "ax = fig.add_subplot(111)\n",
    "\n",
    "scatter = ax.scatter(world_gun.avg_total_firearms / 1e8, world_gun.total_pop / 1e8)\n",
    "ax.set_xlabel(\"Total Civilian Firearms (in Hundred Millions)\")\n",
    "ax.set_ylabel(\"Total Population (in Hundred Millions)\")\n",
    "ax.set_ylim()\n",
    "plt.show()"
   ]
  },
  {
   "cell_type": "markdown",
   "metadata": {},
   "source": [
    "Figure showing the total population of the country (in hundreds of millions) versus the number of total civilian firearms (also alarmingly in hundred millions).  The outlier on the top right is the United States, with over 300 million citizens and over 270 million civilian firearms."
   ]
  },
  {
   "cell_type": "markdown",
   "metadata": {},
   "source": [
    "##### Average number of civilian firearms per person with errors."
   ]
  },
  {
   "cell_type": "code",
   "execution_count": 105,
   "metadata": {},
   "outputs": [
    {
     "data": {
      "image/png": "[encoded data removed]",
      "text/plain": [
       "<matplotlib.figure.Figure at 0x7fad581b6be0>"
      ]
     },
     "metadata": {},
     "output_type": "display_data"
    }
   ],
   "source": [
    "fig = plt.figure(figsize=(10,5))\n",
    "ax = fig.add_subplot(111)\n",
    "\n",
    "scatter = ax.scatter(world_gun.avg_total_firearms/ 1e8, world_gun.total_pop / 1e8)\n",
    "ax.errorbar(world_gun.avg_total_firearms / 1e8, world_gun.total_pop / 1e8,\n",
    "           yerr = np.sqrt(world_gun.total_pop / 1e8 * 1.0), fmt = '.')\n",
    "ax.set_xlabel(\"Average Total Civilian Firearms (in Hundred Millions)\")\n",
    "ax.set_ylabel(\"Total Population (in Hundred Millions)\")\n",
    "ax.set_ylim()\n",
    "plt.show()"
   ]
  },
  {
   "cell_type": "markdown",
   "metadata": {},
   "source": [
    "Figure showing the total population of the country (in hundreds of millions) versus the number of total civilian firearms (also alarmingly in hundred millions).  The outlier on the top right is the United States, with over 300 million citizens and over 270 million civilian firearms. The error bars represent the Poisson statistics on total population."
   ]
  },
  {
   "cell_type": "markdown",
   "metadata": {},
   "source": [
    "#### Plot the average number of homicide by firearms per person."
   ]
  },
  {
   "cell_type": "code",
   "execution_count": 106,
   "metadata": {},
   "outputs": [
    {
     "data": {
      "image/png": "[encoded data removed]",
      "text/plain": [
       "<matplotlib.figure.Figure at 0x7fad58891cc0>"
      ]
     },
     "metadata": {},
     "output_type": "display_data"
    }
   ],
   "source": [
    "#as a histogram\n",
    "fig, ax = plt.subplots()\n",
    "ax.hist(world_gun.hom_by_firearm / world_gun.total_pop * 1000)\n",
    "ax.set_xlabel(\"Homicides by firearm per 1000 people\")\n",
    "plt.show()"
   ]
  },
  {
   "cell_type": "markdown",
   "metadata": {},
   "source": [
    "Figure showing the homicides by firearm per 1000 people.  The majority of countries in the dataset have lower than 0.010 homicides by firearm per 1000 people.  Only one country looks like an outlier, and it is again, the US."
   ]
  },
  {
   "cell_type": "code",
   "execution_count": 117,
   "metadata": {},
   "outputs": [
    {
     "data": {
      "image/png": "[encoded data removed]",
      "text/plain": [
       "<matplotlib.figure.Figure at 0x7fad62a8cba8>"
      ]
     },
     "metadata": {},
     "output_type": "display_data"
    }
   ],
   "source": [
    "#against country GDP, with statistical errors.\n",
    "fig = plt.figure(figsize=(10,5))\n",
    "ax = fig.add_subplot(111)\n",
    "\n",
    "scatter = ax.scatter(world_gun.avg_total_firearms/ 1e8, world_gun.total_pop / 1e8)\n",
    "ax.errorbar(world_gun.avg_total_firearms / 1e8, world_gun.total_pop / 1e8,\n",
    "           yerr = np.sqrt(world_gun.total_pop / 1e8 * 1.0), fmt = '.')\n",
    "ax.set_xlabel(\"Average Total Civilian Firearms (in Hundred Millions)\")\n",
    "ax.set_ylabel(\"Total Population (in Hundred Millions)\")\n",
    "ax.set_ylim()\n",
    "plt.show()"
   ]
  },
  {
   "cell_type": "markdown",
   "metadata": {},
   "source": [
    "Figure showing the total population (in hundreds of millions) versus the total civilian firearms (also in hundreds of millions).  The error bars represent the Poisson statistics on total population.  The outlier on the right is the United States."
   ]
  },
  {
   "cell_type": "markdown",
   "metadata": {},
   "source": [
    "#### Plot the number of homicides by firearm against the number of civilian firearms. Plot the US in a different color, with and without error bars."
   ]
  },
  {
   "cell_type": "code",
   "execution_count": 157,
   "metadata": {},
   "outputs": [
    {
     "data": {
      "image/png": "[encoded data removed]",
      "text/plain": [
       "<matplotlib.figure.Figure at 0x7fad53f89eb8>"
      ]
     },
     "metadata": {},
     "output_type": "display_data"
    }
   ],
   "source": [
    "fig = plt.figure(figsize=(10,7))\n",
    "\n",
    "y1 = world_gun.hom_by_firearm\n",
    "x1 = world_gun.avg_total_firearms / 1e8\n",
    "yerrors = np.sqrt(world_gun.hom_by_firearm * 1.0)\n",
    "\n",
    "color_list = []\n",
    "for row in world_gun.Country:\n",
    "    if row != \"United States\":\n",
    "        color_list.append('#00035b')\n",
    "    if row == \"United States\":\n",
    "        color_list.append('#e50000')\n",
    "\n",
    "ax = fig.add_subplot(2, 1, 1) \n",
    "for i in range(len(x1)):\n",
    "    plt.plot(x1[i], y1[i], color=color_list[i], marker='o')\n",
    "plt.title(\"Homicides by Firearm Versus Number of Civilian Firearms\")\n",
    "plt.ylabel(\"Homicides by Firearm\")\n",
    "plt.xlabel(\"Total Civilian Firearms (in hundreds of millions)\")\n",
    "\n",
    "custom_legend = [Line2D([0],[0], marker='o', color = '#e50000', label='United States', markersize=4)]\n",
    "ax.legend(handles=custom_legend, loc='lower right')\n",
    "\n",
    "ax = fig.add_subplot(2, 1, 2)\n",
    "for i in range(len(x1)):\n",
    "    plt.errorbar(x1[i], y1[i], yerr = yerrors[i], color=color_list[i], fmt = 'o')\n",
    "plt.ylabel(\"Homicides by Firearm\")\n",
    "plt.xlabel(\"Total Civilian Firearms (in hundreds of millions) (with errorbars)\")\n",
    "\n",
    "custom_legend = [Line2D([0],[0], marker='o', color = '#e50000', label='United States', markersize=4)]\n",
    "ax.legend(handles=custom_legend, loc='lower right')\n",
    "\n",
    "plt.show()"
   ]
  },
  {
   "cell_type": "markdown",
   "metadata": {},
   "source": [
    "Figure showing the total homicides by firearm versus the number of civilian firearms (in the hundreds of millions).  Note in the second figure that the error bars are too small to appear (Poisson error for the US homicides by firearm for example is < 100, which on this scale is hard to see)."
   ]
  },
  {
   "cell_type": "markdown",
   "metadata": {},
   "source": [
    "#### Plot the number of mass shootings against the number of civilian firearms. Plot the US in a different color, with and without error bars."
   ]
  },
  {
   "cell_type": "code",
   "execution_count": 158,
   "metadata": {},
   "outputs": [
    {
     "data": {
      "image/png": "[encoded data removed]",
      "text/plain": [
       "<matplotlib.figure.Figure at 0x7fad53c7e908>"
      ]
     },
     "metadata": {},
     "output_type": "display_data"
    }
   ],
   "source": [
    "fig = plt.figure(figsize=(10,7))\n",
    "\n",
    "y1 = world_gun.mass_shootings\n",
    "x1 = world_gun.avg_total_firearms / 1e8\n",
    "yerrors = np.sqrt(world_gun.mass_shootings * 1.0)\n",
    "\n",
    "color_list = []\n",
    "for row in world_gun.Country:\n",
    "    if row != \"United States\":\n",
    "        color_list.append('#00035b')\n",
    "    if row == \"United States\":\n",
    "        color_list.append('#e50000')\n",
    "\n",
    "ax = fig.add_subplot(2, 1, 1) \n",
    "for i in range(len(x1)):\n",
    "    plt.plot(x1[i], y1[i], color=color_list[i], marker='o')\n",
    "plt.title(\"Mass Shootings Versus Number of Civilian Firearms\")\n",
    "plt.ylabel(\"Mass Shootings\")\n",
    "plt.xlabel(\"Total Civilian Firearms (in hundreds of millions)\")\n",
    "\n",
    "custom_legend = [Line2D([0],[0], marker='o', color = '#e50000', label='United States', markersize=4)]\n",
    "ax.legend(handles=custom_legend, loc='lower right')\n",
    "\n",
    "ax = fig.add_subplot(2, 1, 2)\n",
    "for i in range(len(x1)):\n",
    "    plt.errorbar(x1[i], y1[i], yerr = yerrors[i], color=color_list[i], fmt = 'o')\n",
    "plt.ylabel(\"Mass Shootings\")\n",
    "plt.xlabel(\"Total Civilian Firearms (in hundreds of millions) (with errorbars)\")\n",
    "\n",
    "custom_legend = [Line2D([0],[0], marker='o', color = '#e50000', label='United States', markersize=4)]\n",
    "ax.legend(handles=custom_legend, loc='lower right')\n",
    "\n",
    "plt.show()"
   ]
  },
  {
   "cell_type": "markdown",
   "metadata": {},
   "source": [
    "Figure showing the number of mass shootings versus the total civilian firearms in a country (in the hundreds of millions)."
   ]
  },
  {
   "cell_type": "markdown",
   "metadata": {},
   "source": [
    "## Modeling"
   ]
  },
  {
   "cell_type": "markdown",
   "metadata": {},
   "source": [
    "#### Fit a line to the number of mass shootings per person as a function of average total of all civilian firearms per person."
   ]
  },
  {
   "cell_type": "code",
   "execution_count": null,
   "metadata": {},
   "outputs": [],
   "source": []
  }
 ],
 "metadata": {
  "kernelspec": {
   "display_name": "PUI2016_Python3",
   "language": "python",
   "name": "pui2016_python3"
  },
  "language_info": {
   "codemirror_mode": {
    "name": "ipython",
    "version": 3
   },
   "file_extension": ".py",
   "mimetype": "text/x-python",
   "name": "python",
   "nbconvert_exporter": "python",
   "pygments_lexer": "ipython3",
   "version": "3.5.4"
  }
 },
 "nbformat": 4,
 "nbformat_minor": 2
}
