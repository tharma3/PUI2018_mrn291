{
 "cells": [
  {
   "cell_type": "code",
   "execution_count": 204,
   "metadata": {},
   "outputs": [
    {
     "name": "stdout",
     "output_type": "stream",
     "text": [
      "Populating the interactive namespace from numpy and matplotlib\n"
     ]
    }
   ],
   "source": [
    "import pandas as pd\n",
    "import geopandas as gpd\n",
    "from matplotlib import pyplot as plt\n",
    "%pylab inline\n",
    "#import choroplethNYC as cp\n",
    "try:\n",
    "    import urllib2\n",
    "except ImportError:\n",
    "    import urllib\n",
    "import os\n",
    "import requests\n",
    "import json\n",
    "import sys\n",
    "import io\n",
    "import shapely\n",
    "from fiona.crs import from_epsg\n",
    "from functools import reduce\n",
    "import scipy.stats"
   ]
  },
  {
   "cell_type": "code",
   "execution_count": 4,
   "metadata": {},
   "outputs": [],
   "source": [
    "#make PUIDATA an environment variable\n",
    "os.environ[\"PUIDATA\"] = \"%s/PUIData\"%os.getenv(\"HOME\")"
   ]
  },
  {
   "cell_type": "code",
   "execution_count": 5,
   "metadata": {},
   "outputs": [
    {
     "data": {
      "text/plain": [
       "'/nfshome/mrn291/PUIData'"
      ]
     },
     "execution_count": 5,
     "metadata": {},
     "output_type": "execute_result"
    }
   ],
   "source": [
    "#change working directory to PUIDATA\n",
    "os.chdir(os.getenv(\"PUIDATA\"))\n",
    "os.getcwd()"
   ]
  },
  {
   "cell_type": "markdown",
   "metadata": {},
   "source": [
    "### 1 Download park inspection data¶"
   ]
  },
  {
   "cell_type": "code",
   "execution_count": 16,
   "metadata": {},
   "outputs": [
    {
     "data": {
      "text/html": [
       "<div>\n",
       "<table border=\"1\" class=\"dataframe\">\n",
       "  <thead>\n",
       "    <tr style=\"text-align: right;\">\n",
       "      <th></th>\n",
       "      <th>ampsdistrict</th>\n",
       "      <th>begininspection</th>\n",
       "      <th>cleanliness</th>\n",
       "      <th>closed</th>\n",
       "      <th>comments</th>\n",
       "      <th>date</th>\n",
       "      <th>endinspection</th>\n",
       "      <th>inspaddeddate</th>\n",
       "      <th>inspection_id</th>\n",
       "      <th>inspection_year</th>\n",
       "      <th>inspectiontype</th>\n",
       "      <th>inspector</th>\n",
       "      <th>inspector2</th>\n",
       "      <th>overall_condition</th>\n",
       "      <th>prop_id</th>\n",
       "      <th>round</th>\n",
       "      <th>safety_condition</th>\n",
       "      <th>season</th>\n",
       "      <th>structural_condition</th>\n",
       "      <th>visitorcount</th>\n",
       "    </tr>\n",
       "  </thead>\n",
       "  <tbody>\n",
       "    <tr>\n",
       "      <th>0</th>\n",
       "      <td>1.0</td>\n",
       "      <td>12:30 PM</td>\n",
       "      <td>A</td>\n",
       "      <td>Under Construction.</td>\n",
       "      <td>Site closed for bridge maintenance, exterior r...</td>\n",
       "      <td>2010-05-24</td>\n",
       "      <td>12:46 PM</td>\n",
       "      <td>2010-05-24 14:40:00</td>\n",
       "      <td>68214</td>\n",
       "      <td>2010</td>\n",
       "      <td>PIP</td>\n",
       "      <td>3</td>\n",
       "      <td>NULL</td>\n",
       "      <td>A</td>\n",
       "      <td>Q066A</td>\n",
       "      <td>1</td>\n",
       "      <td>NaN</td>\n",
       "      <td>Summer</td>\n",
       "      <td>NaN</td>\n",
       "      <td>NULL</td>\n",
       "    </tr>\n",
       "    <tr>\n",
       "      <th>1</th>\n",
       "      <td>4.0</td>\n",
       "      <td>11:45 AM</td>\n",
       "      <td>A</td>\n",
       "      <td>NULL</td>\n",
       "      <td>NULL</td>\n",
       "      <td>2010-05-24</td>\n",
       "      <td>11:55 AM</td>\n",
       "      <td>2010-05-24 14:56:00</td>\n",
       "      <td>68220</td>\n",
       "      <td>2010</td>\n",
       "      <td>PIP</td>\n",
       "      <td>15</td>\n",
       "      <td>NULL</td>\n",
       "      <td>A</td>\n",
       "      <td>QZ284</td>\n",
       "      <td>1</td>\n",
       "      <td>NULL</td>\n",
       "      <td>Summer</td>\n",
       "      <td>NULL</td>\n",
       "      <td>NULL</td>\n",
       "    </tr>\n",
       "    <tr>\n",
       "      <th>2</th>\n",
       "      <td>12.0</td>\n",
       "      <td>11:05 AM</td>\n",
       "      <td>A</td>\n",
       "      <td>NULL</td>\n",
       "      <td>NULL</td>\n",
       "      <td>2010-05-24</td>\n",
       "      <td>11:35 AM</td>\n",
       "      <td>2010-05-24 15:23:00</td>\n",
       "      <td>68227</td>\n",
       "      <td>2010</td>\n",
       "      <td>PIP</td>\n",
       "      <td>18</td>\n",
       "      <td>NULL</td>\n",
       "      <td>A</td>\n",
       "      <td>Q121A</td>\n",
       "      <td>1</td>\n",
       "      <td>NULL</td>\n",
       "      <td>Summer</td>\n",
       "      <td>NULL</td>\n",
       "      <td>NULL</td>\n",
       "    </tr>\n",
       "    <tr>\n",
       "      <th>3</th>\n",
       "      <td>12.0</td>\n",
       "      <td>10:20 AM</td>\n",
       "      <td>U</td>\n",
       "      <td>NULL</td>\n",
       "      <td>NULL</td>\n",
       "      <td>2010-05-24</td>\n",
       "      <td>10:54 AM</td>\n",
       "      <td>2010-05-24 15:37:00</td>\n",
       "      <td>68228</td>\n",
       "      <td>2010</td>\n",
       "      <td>PIP</td>\n",
       "      <td>18</td>\n",
       "      <td>NULL</td>\n",
       "      <td>U</td>\n",
       "      <td>Q301</td>\n",
       "      <td>1</td>\n",
       "      <td>NULL</td>\n",
       "      <td>Summer</td>\n",
       "      <td>NULL</td>\n",
       "      <td>NULL</td>\n",
       "    </tr>\n",
       "    <tr>\n",
       "      <th>4</th>\n",
       "      <td>3.0</td>\n",
       "      <td>09:25 AM</td>\n",
       "      <td>A</td>\n",
       "      <td>Partial Constr./Rest of Site Rated.</td>\n",
       "      <td>Most of park closed for school repair.</td>\n",
       "      <td>2010-05-25</td>\n",
       "      <td>09:37 AM</td>\n",
       "      <td>2010-05-25 12:07:00</td>\n",
       "      <td>68234</td>\n",
       "      <td>2010</td>\n",
       "      <td>PIP</td>\n",
       "      <td>6</td>\n",
       "      <td>NULL</td>\n",
       "      <td>A</td>\n",
       "      <td>M196</td>\n",
       "      <td>1</td>\n",
       "      <td>NULL</td>\n",
       "      <td>Summer</td>\n",
       "      <td>NULL</td>\n",
       "      <td>NULL</td>\n",
       "    </tr>\n",
       "  </tbody>\n",
       "</table>\n",
       "</div>"
      ],
      "text/plain": [
       "   ampsdistrict begininspection cleanliness  \\\n",
       "0           1.0        12:30 PM           A   \n",
       "1           4.0        11:45 AM           A   \n",
       "2          12.0        11:05 AM           A   \n",
       "3          12.0        10:20 AM           U   \n",
       "4           3.0        09:25 AM           A   \n",
       "\n",
       "                                closed  \\\n",
       "0                  Under Construction.   \n",
       "1                                 NULL   \n",
       "2                                 NULL   \n",
       "3                                 NULL   \n",
       "4  Partial Constr./Rest of Site Rated.   \n",
       "\n",
       "                                            comments       date endinspection  \\\n",
       "0  Site closed for bridge maintenance, exterior r... 2010-05-24      12:46 PM   \n",
       "1                                               NULL 2010-05-24      11:55 AM   \n",
       "2                                               NULL 2010-05-24      11:35 AM   \n",
       "3                                               NULL 2010-05-24      10:54 AM   \n",
       "4             Most of park closed for school repair. 2010-05-25      09:37 AM   \n",
       "\n",
       "         inspaddeddate  inspection_id  inspection_year inspectiontype  \\\n",
       "0  2010-05-24 14:40:00          68214             2010            PIP   \n",
       "1  2010-05-24 14:56:00          68220             2010            PIP   \n",
       "2  2010-05-24 15:23:00          68227             2010            PIP   \n",
       "3  2010-05-24 15:37:00          68228             2010            PIP   \n",
       "4  2010-05-25 12:07:00          68234             2010            PIP   \n",
       "\n",
       "   inspector inspector2 overall_condition prop_id  round safety_condition  \\\n",
       "0          3       NULL                 A   Q066A      1              NaN   \n",
       "1         15       NULL                 A   QZ284      1             NULL   \n",
       "2         18       NULL                 A   Q121A      1             NULL   \n",
       "3         18       NULL                 U    Q301      1             NULL   \n",
       "4          6       NULL                 A    M196      1             NULL   \n",
       "\n",
       "   season structural_condition visitorcount  \n",
       "0  Summer                  NaN         NULL  \n",
       "1  Summer                 NULL         NULL  \n",
       "2  Summer                 NULL         NULL  \n",
       "3  Summer                 NULL         NULL  \n",
       "4  Summer                 NULL         NULL  "
      ]
     },
     "execution_count": 16,
     "metadata": {},
     "output_type": "execute_result"
    }
   ],
   "source": [
    "#download data from open data using the open data API\n",
    "parks_download = 'https://data.cityofnewyork.us/resource/a5vb-ya4e.json'\n",
    "\n",
    "parks_data = pd.read_json(parks_download)\n",
    "\n",
    "parks_data.head()"
   ]
  },
  {
   "cell_type": "code",
   "execution_count": 11,
   "metadata": {},
   "outputs": [
    {
     "data": {
      "text/plain": [
       "['ampsdistrict',\n",
       " 'begininspection',\n",
       " 'cleanliness',\n",
       " 'closed',\n",
       " 'comments',\n",
       " 'date',\n",
       " 'endinspection',\n",
       " 'inspaddeddate',\n",
       " 'inspection_id',\n",
       " 'inspection_year',\n",
       " 'inspectiontype',\n",
       " 'inspector',\n",
       " 'inspector2',\n",
       " 'overall_condition',\n",
       " 'prop_id',\n",
       " 'round',\n",
       " 'safety_condition',\n",
       " 'season',\n",
       " 'structural_condition',\n",
       " 'visitorcount']"
      ]
     },
     "execution_count": 11,
     "metadata": {},
     "output_type": "execute_result"
    }
   ],
   "source": [
    "#look at column names\n",
    "list(parks_data.columns)"
   ]
  },
  {
   "cell_type": "code",
   "execution_count": 12,
   "metadata": {},
   "outputs": [
    {
     "data": {
      "text/plain": [
       "ampsdistrict                   float64\n",
       "begininspection                 object\n",
       "cleanliness                     object\n",
       "closed                          object\n",
       "comments                        object\n",
       "date                    datetime64[ns]\n",
       "endinspection                   object\n",
       "inspaddeddate                   object\n",
       "inspection_id                    int64\n",
       "inspection_year                  int64\n",
       "inspectiontype                  object\n",
       "inspector                        int64\n",
       "inspector2                      object\n",
       "overall_condition               object\n",
       "prop_id                         object\n",
       "round                            int64\n",
       "safety_condition                object\n",
       "season                          object\n",
       "structural_condition            object\n",
       "visitorcount                    object\n",
       "dtype: object"
      ]
     },
     "execution_count": 12,
     "metadata": {},
     "output_type": "execute_result"
    }
   ],
   "source": [
    "#look at data types\n",
    "parks_data.dtypes"
   ]
  },
  {
   "cell_type": "code",
   "execution_count": 17,
   "metadata": {},
   "outputs": [
    {
     "data": {
      "text/html": [
       "<div>\n",
       "<table border=\"1\" class=\"dataframe\">\n",
       "  <thead>\n",
       "    <tr style=\"text-align: right;\">\n",
       "      <th></th>\n",
       "      <th>ampsdistrict</th>\n",
       "      <th>begininspection</th>\n",
       "      <th>cleanliness</th>\n",
       "      <th>closed</th>\n",
       "      <th>comments</th>\n",
       "      <th>date</th>\n",
       "      <th>endinspection</th>\n",
       "      <th>inspaddeddate</th>\n",
       "      <th>inspection_id</th>\n",
       "      <th>inspection_year</th>\n",
       "      <th>inspectiontype</th>\n",
       "      <th>inspector</th>\n",
       "      <th>inspector2</th>\n",
       "      <th>prop_id</th>\n",
       "      <th>round</th>\n",
       "      <th>safety_condition</th>\n",
       "      <th>season</th>\n",
       "      <th>structural_condition</th>\n",
       "      <th>visitorcount</th>\n",
       "    </tr>\n",
       "    <tr>\n",
       "      <th>overall_condition</th>\n",
       "      <th></th>\n",
       "      <th></th>\n",
       "      <th></th>\n",
       "      <th></th>\n",
       "      <th></th>\n",
       "      <th></th>\n",
       "      <th></th>\n",
       "      <th></th>\n",
       "      <th></th>\n",
       "      <th></th>\n",
       "      <th></th>\n",
       "      <th></th>\n",
       "      <th></th>\n",
       "      <th></th>\n",
       "      <th></th>\n",
       "      <th></th>\n",
       "      <th></th>\n",
       "      <th></th>\n",
       "      <th></th>\n",
       "    </tr>\n",
       "  </thead>\n",
       "  <tbody>\n",
       "    <tr>\n",
       "      <th>A</th>\n",
       "      <td>754</td>\n",
       "      <td>801</td>\n",
       "      <td>801</td>\n",
       "      <td>617</td>\n",
       "      <td>622</td>\n",
       "      <td>801</td>\n",
       "      <td>801</td>\n",
       "      <td>801</td>\n",
       "      <td>801</td>\n",
       "      <td>801</td>\n",
       "      <td>801</td>\n",
       "      <td>801</td>\n",
       "      <td>801</td>\n",
       "      <td>801</td>\n",
       "      <td>801</td>\n",
       "      <td>602</td>\n",
       "      <td>801</td>\n",
       "      <td>602</td>\n",
       "      <td>801</td>\n",
       "    </tr>\n",
       "    <tr>\n",
       "      <th>N</th>\n",
       "      <td>53</td>\n",
       "      <td>63</td>\n",
       "      <td>63</td>\n",
       "      <td>56</td>\n",
       "      <td>55</td>\n",
       "      <td>63</td>\n",
       "      <td>63</td>\n",
       "      <td>63</td>\n",
       "      <td>63</td>\n",
       "      <td>63</td>\n",
       "      <td>63</td>\n",
       "      <td>63</td>\n",
       "      <td>63</td>\n",
       "      <td>63</td>\n",
       "      <td>63</td>\n",
       "      <td>54</td>\n",
       "      <td>63</td>\n",
       "      <td>54</td>\n",
       "      <td>63</td>\n",
       "    </tr>\n",
       "    <tr>\n",
       "      <th>U</th>\n",
       "      <td>135</td>\n",
       "      <td>136</td>\n",
       "      <td>136</td>\n",
       "      <td>91</td>\n",
       "      <td>93</td>\n",
       "      <td>136</td>\n",
       "      <td>136</td>\n",
       "      <td>136</td>\n",
       "      <td>136</td>\n",
       "      <td>136</td>\n",
       "      <td>136</td>\n",
       "      <td>136</td>\n",
       "      <td>136</td>\n",
       "      <td>136</td>\n",
       "      <td>136</td>\n",
       "      <td>87</td>\n",
       "      <td>136</td>\n",
       "      <td>87</td>\n",
       "      <td>136</td>\n",
       "    </tr>\n",
       "  </tbody>\n",
       "</table>\n",
       "</div>"
      ],
      "text/plain": [
       "                   ampsdistrict  begininspection  cleanliness  closed  \\\n",
       "overall_condition                                                       \n",
       "A                           754              801          801     617   \n",
       "N                            53               63           63      56   \n",
       "U                           135              136          136      91   \n",
       "\n",
       "                   comments  date  endinspection  inspaddeddate  \\\n",
       "overall_condition                                                 \n",
       "A                       622   801            801            801   \n",
       "N                        55    63             63             63   \n",
       "U                        93   136            136            136   \n",
       "\n",
       "                   inspection_id  inspection_year  inspectiontype  inspector  \\\n",
       "overall_condition                                                              \n",
       "A                            801              801             801        801   \n",
       "N                             63               63              63         63   \n",
       "U                            136              136             136        136   \n",
       "\n",
       "                   inspector2  prop_id  round  safety_condition  season  \\\n",
       "overall_condition                                                         \n",
       "A                         801      801    801               602     801   \n",
       "N                          63       63     63                54      63   \n",
       "U                         136      136    136                87     136   \n",
       "\n",
       "                   structural_condition  visitorcount  \n",
       "overall_condition                                      \n",
       "A                                   602           801  \n",
       "N                                    54            63  \n",
       "U                                    87           136  "
      ]
     },
     "execution_count": 17,
     "metadata": {},
     "output_type": "execute_result"
    }
   ],
   "source": [
    "#what the heck are the overall conditions if not already numeric??\n",
    "parks_data.groupby('overall_condition').count()"
   ]
  },
  {
   "cell_type": "code",
   "execution_count": 70,
   "metadata": {},
   "outputs": [],
   "source": [
    "#make up a numerical value for each of the overall condition categories???\n",
    "# per data dictionary A= acceptable; U= unacceptable; N= not rated\n",
    "ratings = {'A':1, 'U':-1, 'N':0}\n",
    "parks_data['overall_condition_numeric'] = parks_data['overall_condition'].map(ratings)"
   ]
  },
  {
   "cell_type": "code",
   "execution_count": 71,
   "metadata": {},
   "outputs": [
    {
     "data": {
      "text/html": [
       "<div>\n",
       "<table border=\"1\" class=\"dataframe\">\n",
       "  <thead>\n",
       "    <tr style=\"text-align: right;\">\n",
       "      <th></th>\n",
       "      <th>prop_id</th>\n",
       "      <th>overall_condition_numeric</th>\n",
       "    </tr>\n",
       "  </thead>\n",
       "  <tbody>\n",
       "    <tr>\n",
       "      <th>0</th>\n",
       "      <td>B007</td>\n",
       "      <td>-0.5</td>\n",
       "    </tr>\n",
       "    <tr>\n",
       "      <th>1</th>\n",
       "      <td>B008</td>\n",
       "      <td>1.0</td>\n",
       "    </tr>\n",
       "    <tr>\n",
       "      <th>2</th>\n",
       "      <td>B008-03</td>\n",
       "      <td>1.0</td>\n",
       "    </tr>\n",
       "    <tr>\n",
       "      <th>3</th>\n",
       "      <td>B012</td>\n",
       "      <td>1.0</td>\n",
       "    </tr>\n",
       "    <tr>\n",
       "      <th>4</th>\n",
       "      <td>B012-02</td>\n",
       "      <td>1.0</td>\n",
       "    </tr>\n",
       "  </tbody>\n",
       "</table>\n",
       "</div>"
      ],
      "text/plain": [
       "   prop_id  overall_condition_numeric\n",
       "0     B007                       -0.5\n",
       "1     B008                        1.0\n",
       "2  B008-03                        1.0\n",
       "3     B012                        1.0\n",
       "4  B012-02                        1.0"
      ]
     },
     "execution_count": 71,
     "metadata": {},
     "output_type": "execute_result"
    }
   ],
   "source": [
    "#Group the dataframe by park park id and get the mean condition for each park.\n",
    "parksinspection = parks_data.groupby(['prop_id'])['overall_condition_numeric'].mean().reset_index()\n",
    "\n",
    "parksinspection.head()"
   ]
  },
  {
   "cell_type": "markdown",
   "metadata": {},
   "source": [
    "### 2. Download parks shapefile for the NYC Open Data data."
   ]
  },
  {
   "cell_type": "code",
   "execution_count": 72,
   "metadata": {},
   "outputs": [
    {
     "name": "stdout",
     "output_type": "stream",
     "text": [
      "Archive:  park_shapes.gz\n",
      "  inflating: /nfshome/mrn291/PUIData/geo_export_e821e6e2-8ad0-441e-8c93-48ea5cf19708.dbf  \n",
      "  inflating: /nfshome/mrn291/PUIData/geo_export_e821e6e2-8ad0-441e-8c93-48ea5cf19708.shp  \n",
      "  inflating: /nfshome/mrn291/PUIData/geo_export_e821e6e2-8ad0-441e-8c93-48ea5cf19708.shx  \n",
      "  inflating: /nfshome/mrn291/PUIData/geo_export_e821e6e2-8ad0-441e-8c93-48ea5cf19708.prj  \n"
     ]
    }
   ],
   "source": [
    "#Download parks shapefile for the NYC Open Data data.\n",
    "park_shape_url = 'https://data.cityofnewyork.us/api/geospatial/k2ya-ucmv?method=export&format=Shapefile'\n",
    "urllib.request.urlretrieve(park_shape_url, \"park_shapes.gz\")\n",
    "!unzip -d $PUIDATA park_shapes.gz"
   ]
  },
  {
   "cell_type": "code",
   "execution_count": 73,
   "metadata": {},
   "outputs": [],
   "source": [
    "shapefile = 'geo_export_57464f41-b7f8-403a-8029-05b3cb8be009.shp'\n",
    "park_shapes = gpd.GeoDataFrame.from_file(shapefile)"
   ]
  },
  {
   "cell_type": "code",
   "execution_count": 74,
   "metadata": {},
   "outputs": [
    {
     "data": {
      "text/html": [
       "<div>\n",
       "<table border=\"1\" class=\"dataframe\">\n",
       "  <thead>\n",
       "    <tr style=\"text-align: right;\">\n",
       "      <th></th>\n",
       "      <th>acquisitio</th>\n",
       "      <th>acres</th>\n",
       "      <th>address</th>\n",
       "      <th>borough</th>\n",
       "      <th>class</th>\n",
       "      <th>commission</th>\n",
       "      <th>communityb</th>\n",
       "      <th>councildis</th>\n",
       "      <th>department</th>\n",
       "      <th>eapply</th>\n",
       "      <th>...</th>\n",
       "      <th>precinct</th>\n",
       "      <th>retired</th>\n",
       "      <th>signname</th>\n",
       "      <th>subcategor</th>\n",
       "      <th>typecatego</th>\n",
       "      <th>url</th>\n",
       "      <th>us_congres</th>\n",
       "      <th>waterfront</th>\n",
       "      <th>zipcode</th>\n",
       "      <th>geometry</th>\n",
       "    </tr>\n",
       "  </thead>\n",
       "  <tbody>\n",
       "    <tr>\n",
       "      <th>0</th>\n",
       "      <td>19440801000000.00000</td>\n",
       "      <td>0.991</td>\n",
       "      <td>None</td>\n",
       "      <td>M</td>\n",
       "      <td>PLGD</td>\n",
       "      <td>20100106000000.00000</td>\n",
       "      <td>111</td>\n",
       "      <td>9</td>\n",
       "      <td>M-11</td>\n",
       "      <td>Abraham Lincoln Playground</td>\n",
       "      <td>...</td>\n",
       "      <td>25</td>\n",
       "      <td>False</td>\n",
       "      <td>Abraham Lincoln Playground</td>\n",
       "      <td>Neighborhood Plgd</td>\n",
       "      <td>Community Park</td>\n",
       "      <td>http://www.nycgovparks.org/parks/M193/</td>\n",
       "      <td>13</td>\n",
       "      <td>No</td>\n",
       "      <td>10037</td>\n",
       "      <td>POLYGON ((-73.93682693707335 40.81184552631012...</td>\n",
       "    </tr>\n",
       "    <tr>\n",
       "      <th>1</th>\n",
       "      <td>None</td>\n",
       "      <td>0.030</td>\n",
       "      <td>None</td>\n",
       "      <td>Q</td>\n",
       "      <td>PARK</td>\n",
       "      <td>20090423000000.00000</td>\n",
       "      <td>413</td>\n",
       "      <td>23</td>\n",
       "      <td>Q-13</td>\n",
       "      <td>Father Reilly Square</td>\n",
       "      <td>...</td>\n",
       "      <td>105</td>\n",
       "      <td>False</td>\n",
       "      <td>Father Reilly Square</td>\n",
       "      <td>Sitting Area/Triangle/Mall</td>\n",
       "      <td>Triangle/Plaza</td>\n",
       "      <td>http://www.nycgovparks.org/parks/Q159/</td>\n",
       "      <td>5</td>\n",
       "      <td>No</td>\n",
       "      <td>11428</td>\n",
       "      <td>POLYGON ((-73.73628053979716 40.72267578865961...</td>\n",
       "    </tr>\n",
       "    <tr>\n",
       "      <th>2</th>\n",
       "      <td>19360824000000.00000</td>\n",
       "      <td>0.911</td>\n",
       "      <td>2300 Ryer Avenue</td>\n",
       "      <td>X</td>\n",
       "      <td>PARK</td>\n",
       "      <td>20100106000000.00000</td>\n",
       "      <td>205</td>\n",
       "      <td>15</td>\n",
       "      <td>X-05</td>\n",
       "      <td>Slattery Playground</td>\n",
       "      <td>...</td>\n",
       "      <td>46</td>\n",
       "      <td>False</td>\n",
       "      <td>Slattery Playground</td>\n",
       "      <td>Neighborhood Plgd</td>\n",
       "      <td>Playground</td>\n",
       "      <td>http://www.nycgovparks.org/parks/X085/</td>\n",
       "      <td>15</td>\n",
       "      <td>No</td>\n",
       "      <td>10458</td>\n",
       "      <td>POLYGON ((-73.89825077067158 40.85693358482933...</td>\n",
       "    </tr>\n",
       "    <tr>\n",
       "      <th>3</th>\n",
       "      <td>19520206000000.00000</td>\n",
       "      <td>0.189</td>\n",
       "      <td>349 RODNEY STREET</td>\n",
       "      <td>B</td>\n",
       "      <td>PARK</td>\n",
       "      <td>20100106000000.00000</td>\n",
       "      <td>301</td>\n",
       "      <td>34</td>\n",
       "      <td>B-01</td>\n",
       "      <td>Rodney Playground Center</td>\n",
       "      <td>...</td>\n",
       "      <td>90</td>\n",
       "      <td>False</td>\n",
       "      <td>Rodney Playground Center</td>\n",
       "      <td>Sitting Area/Triangle/Mall</td>\n",
       "      <td>Neighborhood Park</td>\n",
       "      <td>http://www.nycgovparks.org/parks/B223PD/</td>\n",
       "      <td>7</td>\n",
       "      <td>No</td>\n",
       "      <td>11211</td>\n",
       "      <td>POLYGON ((-73.95533291494969 40.71042213200856...</td>\n",
       "    </tr>\n",
       "    <tr>\n",
       "      <th>4</th>\n",
       "      <td>19240403000000.00000</td>\n",
       "      <td>0.554</td>\n",
       "      <td>124 11 STREET</td>\n",
       "      <td>B</td>\n",
       "      <td>PARK</td>\n",
       "      <td>20110712000000.00000</td>\n",
       "      <td>306</td>\n",
       "      <td>39</td>\n",
       "      <td>B-06</td>\n",
       "      <td>Ennis Playground</td>\n",
       "      <td>...</td>\n",
       "      <td>78</td>\n",
       "      <td>False</td>\n",
       "      <td>Ennis Playground</td>\n",
       "      <td>Neighborhood Plgd</td>\n",
       "      <td>Playground</td>\n",
       "      <td>http://www.nycgovparks.org/parks/B095/</td>\n",
       "      <td>7</td>\n",
       "      <td>No</td>\n",
       "      <td>11215</td>\n",
       "      <td>POLYGON ((-73.99424820391394 40.67057586455565...</td>\n",
       "    </tr>\n",
       "  </tbody>\n",
       "</table>\n",
       "<p>5 rows × 36 columns</p>\n",
       "</div>"
      ],
      "text/plain": [
       "             acquisitio  acres            address borough class  \\\n",
       "0  19440801000000.00000  0.991               None       M  PLGD   \n",
       "1                  None  0.030               None       Q  PARK   \n",
       "2  19360824000000.00000  0.911   2300 Ryer Avenue       X  PARK   \n",
       "3  19520206000000.00000  0.189  349 RODNEY STREET       B  PARK   \n",
       "4  19240403000000.00000  0.554      124 11 STREET       B  PARK   \n",
       "\n",
       "             commission communityb councildis department  \\\n",
       "0  20100106000000.00000        111          9       M-11   \n",
       "1  20090423000000.00000        413         23       Q-13   \n",
       "2  20100106000000.00000        205         15       X-05   \n",
       "3  20100106000000.00000        301         34       B-01   \n",
       "4  20110712000000.00000        306         39       B-06   \n",
       "\n",
       "                       eapply  \\\n",
       "0  Abraham Lincoln Playground   \n",
       "1        Father Reilly Square   \n",
       "2         Slattery Playground   \n",
       "3    Rodney Playground Center   \n",
       "4            Ennis Playground   \n",
       "\n",
       "                         ...                          precinct retired  \\\n",
       "0                        ...                                25   False   \n",
       "1                        ...                               105   False   \n",
       "2                        ...                                46   False   \n",
       "3                        ...                                90   False   \n",
       "4                        ...                                78   False   \n",
       "\n",
       "                     signname                  subcategor         typecatego  \\\n",
       "0  Abraham Lincoln Playground           Neighborhood Plgd     Community Park   \n",
       "1        Father Reilly Square  Sitting Area/Triangle/Mall     Triangle/Plaza   \n",
       "2         Slattery Playground           Neighborhood Plgd         Playground   \n",
       "3    Rodney Playground Center  Sitting Area/Triangle/Mall  Neighborhood Park   \n",
       "4            Ennis Playground           Neighborhood Plgd         Playground   \n",
       "\n",
       "                                        url us_congres waterfront zipcode  \\\n",
       "0    http://www.nycgovparks.org/parks/M193/         13         No   10037   \n",
       "1    http://www.nycgovparks.org/parks/Q159/          5         No   11428   \n",
       "2    http://www.nycgovparks.org/parks/X085/         15         No   10458   \n",
       "3  http://www.nycgovparks.org/parks/B223PD/          7         No   11211   \n",
       "4    http://www.nycgovparks.org/parks/B095/          7         No   11215   \n",
       "\n",
       "                                            geometry  \n",
       "0  POLYGON ((-73.93682693707335 40.81184552631012...  \n",
       "1  POLYGON ((-73.73628053979716 40.72267578865961...  \n",
       "2  POLYGON ((-73.89825077067158 40.85693358482933...  \n",
       "3  POLYGON ((-73.95533291494969 40.71042213200856...  \n",
       "4  POLYGON ((-73.99424820391394 40.67057586455565...  \n",
       "\n",
       "[5 rows x 36 columns]"
      ]
     },
     "execution_count": 74,
     "metadata": {},
     "output_type": "execute_result"
    }
   ],
   "source": [
    "park_shapes.head()"
   ]
  },
  {
   "cell_type": "code",
   "execution_count": 75,
   "metadata": {},
   "outputs": [
    {
     "data": {
      "text/plain": [
       "(2007, 36)"
      ]
     },
     "execution_count": 75,
     "metadata": {},
     "output_type": "execute_result"
    }
   ],
   "source": [
    "park_shapes.shape"
   ]
  },
  {
   "cell_type": "code",
   "execution_count": 76,
   "metadata": {},
   "outputs": [
    {
     "data": {
      "text/plain": [
       "Index(['acquisitio', 'acres', 'address', 'borough', 'class', 'commission',\n",
       "       'communityb', 'councildis', 'department', 'eapply', 'gisobjid',\n",
       "       'gispropnum', 'global_id', 'jurisdicti', 'location', 'mapped',\n",
       "       'name311', 'nys_assemb', 'nys_senate', 'objectid', 'omppropid',\n",
       "       'parentid', 'permit', 'permitdist', 'permitpare', 'pip_ratabl',\n",
       "       'precinct', 'retired', 'signname', 'subcategor', 'typecatego', 'url',\n",
       "       'us_congres', 'waterfront', 'zipcode', 'geometry'],\n",
       "      dtype='object')"
      ]
     },
     "execution_count": 76,
     "metadata": {},
     "output_type": "execute_result"
    }
   ],
   "source": [
    "park_shapes.columns"
   ]
  },
  {
   "cell_type": "markdown",
   "metadata": {},
   "source": [
    "# I KNOW THIS MERGE IS TOTALLY F'ED--SHOULD BE MORE PARKS.  BUT RAN OUT OF TIME TO FIND OUT WHAT WAS WRONG"
   ]
  },
  {
   "cell_type": "code",
   "execution_count": 82,
   "metadata": {},
   "outputs": [
    {
     "data": {
      "text/plain": [
       "(608, 36)"
      ]
     },
     "execution_count": 82,
     "metadata": {},
     "output_type": "execute_result"
    }
   ],
   "source": [
    "#Extract the Brooklyn park properties from this file and merge it with the inspection data. \n",
    "bk_parks = park_shapes[park_shapes['borough']=='B']\n",
    "bk_parks_inspected = pd.merge(bk_parks, parksinspection, how='inner', left_on='gispropnum', right_on = 'prop_id')\n",
    "bk_parks.shape\n"
   ]
  },
  {
   "cell_type": "code",
   "execution_count": 87,
   "metadata": {},
   "outputs": [
    {
     "data": {
      "text/plain": [
       "Index(['acquisitio', 'acres', 'address', 'borough', 'class', 'commission',\n",
       "       'communityb', 'councildis', 'department', 'eapply', 'gisobjid',\n",
       "       'gispropnum', 'global_id', 'jurisdicti', 'location', 'mapped',\n",
       "       'name311', 'nys_assemb', 'nys_senate', 'objectid', 'omppropid',\n",
       "       'parentid', 'permit', 'permitdist', 'permitpare', 'pip_ratabl',\n",
       "       'precinct', 'retired', 'signname', 'subcategor', 'typecatego', 'url',\n",
       "       'us_congres', 'waterfront', 'zipcode', 'geometry', 'prop_id',\n",
       "       'overall_condition_numeric'],\n",
       "      dtype='object')"
      ]
     },
     "execution_count": 87,
     "metadata": {},
     "output_type": "execute_result"
    }
   ],
   "source": [
    "bk_parks_inspected.columns"
   ]
  },
  {
   "cell_type": "code",
   "execution_count": 92,
   "metadata": {},
   "outputs": [
    {
     "data": {
      "image/png": "[encoded data removed]",
      "text/plain": [
       "<matplotlib.figure.Figure at 0x7fd9457442e8>"
      ]
     },
     "metadata": {},
     "output_type": "display_data"
    }
   ],
   "source": [
    "#plot the parks colorcoded by condition.\n",
    "ax = bk_parks_inspected.plot(column=\"overall_condition_numeric\", k=3, cmap=\"RdBu\", legend=True, figsize=(10,10))\n",
    "plt.title(\"Brooklyn Parks Colored by Inspection Status\")\n",
    "ax.set_ylabel(\"latitude\", fontsize=20)\n",
    "ax.set_xlabel(\"longitude\", fontsize=20);\n",
    "#im = ax.imshow(puma_broadband['BB_Percent'], cmap='viridis')\n",
    "#cax = divider.append_axes('right', size='5%', pad=0.05)\n",
    "#cbar = fig.colorbar(im, ax=ax)\n",
    "plt.show()"
   ]
  },
  {
   "cell_type": "markdown",
   "metadata": {},
   "source": [
    "Figure showing the average inspection result for Brooklyn Parks where Red is a higher average inspection value and blue is a lower average inspection value"
   ]
  },
  {
   "cell_type": "markdown",
   "metadata": {},
   "source": [
    "### 3 Download unemployment rate information from ACS 2015 (5 year survey) for Brooklyn at the PUMA geographical aggregation level."
   ]
  },
  {
   "cell_type": "code",
   "execution_count": 248,
   "metadata": {},
   "outputs": [],
   "source": [
    "#add cwd to system path in order have it look up the census API file\n",
    "os.chdir('/nfshome/mrn291/PUI2018_mrn291')\n",
    "\n",
    "#add cwd to system path in order have it look up the census API file\n",
    "sys.path.append(os.getcwd())\n",
    "from censusAPI import myAPI\n",
    "\n",
    "#NOTE YOU NEED TO HAVE A FILE IN YOUR DIRECTORY WITH myAPI = 'YOUR CENSUS API KEY'\n",
    "# ALSO I KNOW YOU'RE SUPPOSED TO DO ALL YOUR IMPORTS UP TOP BUT I DIDN'T WANT TO CHANGE ALL MY DIRECTORIES AROUND AGAIN"
   ]
  },
  {
   "cell_type": "code",
   "execution_count": 138,
   "metadata": {},
   "outputs": [],
   "source": [
    "unemployed_males_17_64 = 'C23002G_008E'\n",
    "\n",
    "unemployed_females_17_64 = 'C23002G_021E'\n",
    "\n",
    "total_surveyed_population_17_64 = 'C23002G_001E'\n",
    "\n",
    "total_population = 'B00001_001E'\n",
    "\n",
    "all_variables = [unemployed_males_17_64, unemployed_females_17_64, total_surveyed_population_17_64, total_population]\n",
    "\n",
    "frames = []\n",
    "\n",
    "for variable in all_variables:\n",
    "    url = \"https://api.census.gov/data/2015/acs/acs5?get=\" + variable +\\\n",
    "    \",NAME&for=public%20use%20microdata%20area:*&in=state:36&key=\" + myAPI\n",
    "    resp = requests.request('GET', url).content\n",
    "    puma_pop = pd.read_csv(io.StringIO(resp.decode('utf-8').replace('[','').replace(']','')))\n",
    "    frames.append(puma_pop)"
   ]
  },
  {
   "cell_type": "code",
   "execution_count": 140,
   "metadata": {},
   "outputs": [],
   "source": [
    "pumaUnemployment = reduce(lambda left,right: pd.merge(left,right,on=['NAME','public use microdata area','state']), frames)"
   ]
  },
  {
   "cell_type": "code",
   "execution_count": 141,
   "metadata": {},
   "outputs": [],
   "source": [
    "pumaUnemployment.drop(['Unnamed: 4_x', 'Unnamed: 4_y', 'Unnamed: 4'], axis=1, inplace=True)\n",
    "pumaUnemployment.rename(columns={'public use microdata area':'PUMA', 'C23002G_008E': 'unemployed_males_17_64', 'C23002G_021E':'unemployed_females_17_64', 'C23002G_001E':'total_surveyed_population_17_64', 'B00001_001E':'total_pop'}, inplace=True)"
   ]
  },
  {
   "cell_type": "code",
   "execution_count": 142,
   "metadata": {},
   "outputs": [
    {
     "data": {
      "text/html": [
       "<div>\n",
       "<table border=\"1\" class=\"dataframe\">\n",
       "  <thead>\n",
       "    <tr style=\"text-align: right;\">\n",
       "      <th></th>\n",
       "      <th>unemployed_males_17_64</th>\n",
       "      <th>NAME</th>\n",
       "      <th>state</th>\n",
       "      <th>PUMA</th>\n",
       "      <th>unemployed_females_17_64</th>\n",
       "      <th>total_surveyed_population_17_64</th>\n",
       "      <th>total_pop</th>\n",
       "    </tr>\n",
       "  </thead>\n",
       "  <tbody>\n",
       "    <tr>\n",
       "      <th>0</th>\n",
       "      <td>75</td>\n",
       "      <td>St. Lawrence County PUMA, New York</td>\n",
       "      <td>36</td>\n",
       "      <td>100</td>\n",
       "      <td>79</td>\n",
       "      <td>1304</td>\n",
       "      <td>15725</td>\n",
       "    </tr>\n",
       "    <tr>\n",
       "      <th>1</th>\n",
       "      <td>141</td>\n",
       "      <td>Clinton, Franklin, Essex &amp; Hamilton Counties P...</td>\n",
       "      <td>36</td>\n",
       "      <td>200</td>\n",
       "      <td>74</td>\n",
       "      <td>1782</td>\n",
       "      <td>23140</td>\n",
       "    </tr>\n",
       "    <tr>\n",
       "      <th>2</th>\n",
       "      <td>50</td>\n",
       "      <td>Warren &amp; Washington Counties PUMA, New York</td>\n",
       "      <td>36</td>\n",
       "      <td>300</td>\n",
       "      <td>42</td>\n",
       "      <td>1066</td>\n",
       "      <td>14491</td>\n",
       "    </tr>\n",
       "    <tr>\n",
       "      <th>3</th>\n",
       "      <td>62</td>\n",
       "      <td>Herkimer (North &amp; Central) &amp; Oneida (Outer) Co...</td>\n",
       "      <td>36</td>\n",
       "      <td>401</td>\n",
       "      <td>23</td>\n",
       "      <td>724</td>\n",
       "      <td>14933</td>\n",
       "    </tr>\n",
       "    <tr>\n",
       "      <th>4</th>\n",
       "      <td>83</td>\n",
       "      <td>Oneida County (Central)--Greater Utica &amp; Rome ...</td>\n",
       "      <td>36</td>\n",
       "      <td>402</td>\n",
       "      <td>124</td>\n",
       "      <td>2476</td>\n",
       "      <td>15492</td>\n",
       "    </tr>\n",
       "  </tbody>\n",
       "</table>\n",
       "</div>"
      ],
      "text/plain": [
       "   unemployed_males_17_64                                               NAME  \\\n",
       "0                      75                 St. Lawrence County PUMA, New York   \n",
       "1                     141  Clinton, Franklin, Essex & Hamilton Counties P...   \n",
       "2                      50        Warren & Washington Counties PUMA, New York   \n",
       "3                      62  Herkimer (North & Central) & Oneida (Outer) Co...   \n",
       "4                      83  Oneida County (Central)--Greater Utica & Rome ...   \n",
       "\n",
       "   state  PUMA  unemployed_females_17_64  total_surveyed_population_17_64  \\\n",
       "0     36   100                        79                             1304   \n",
       "1     36   200                        74                             1782   \n",
       "2     36   300                        42                             1066   \n",
       "3     36   401                        23                              724   \n",
       "4     36   402                       124                             2476   \n",
       "\n",
       "   total_pop  \n",
       "0      15725  \n",
       "1      23140  \n",
       "2      14491  \n",
       "3      14933  \n",
       "4      15492  "
      ]
     },
     "execution_count": 142,
     "metadata": {},
     "output_type": "execute_result"
    }
   ],
   "source": [
    "pumaUnemployment.head()"
   ]
  },
  {
   "cell_type": "code",
   "execution_count": 143,
   "metadata": {},
   "outputs": [],
   "source": [
    "puma_sums = pumaUnemployment.groupby('PUMA').sum().reset_index()"
   ]
  },
  {
   "cell_type": "code",
   "execution_count": 144,
   "metadata": {},
   "outputs": [
    {
     "data": {
      "text/html": [
       "<div>\n",
       "<table border=\"1\" class=\"dataframe\">\n",
       "  <thead>\n",
       "    <tr style=\"text-align: right;\">\n",
       "      <th></th>\n",
       "      <th>PUMA</th>\n",
       "      <th>unemployed_males_17_64</th>\n",
       "      <th>state</th>\n",
       "      <th>unemployed_females_17_64</th>\n",
       "      <th>total_surveyed_population_17_64</th>\n",
       "      <th>total_pop</th>\n",
       "    </tr>\n",
       "  </thead>\n",
       "  <tbody>\n",
       "    <tr>\n",
       "      <th>0</th>\n",
       "      <td>100</td>\n",
       "      <td>75</td>\n",
       "      <td>36</td>\n",
       "      <td>79</td>\n",
       "      <td>1304</td>\n",
       "      <td>15725</td>\n",
       "    </tr>\n",
       "    <tr>\n",
       "      <th>1</th>\n",
       "      <td>200</td>\n",
       "      <td>141</td>\n",
       "      <td>36</td>\n",
       "      <td>74</td>\n",
       "      <td>1782</td>\n",
       "      <td>23140</td>\n",
       "    </tr>\n",
       "    <tr>\n",
       "      <th>2</th>\n",
       "      <td>300</td>\n",
       "      <td>50</td>\n",
       "      <td>36</td>\n",
       "      <td>42</td>\n",
       "      <td>1066</td>\n",
       "      <td>14491</td>\n",
       "    </tr>\n",
       "    <tr>\n",
       "      <th>3</th>\n",
       "      <td>401</td>\n",
       "      <td>62</td>\n",
       "      <td>36</td>\n",
       "      <td>23</td>\n",
       "      <td>724</td>\n",
       "      <td>14933</td>\n",
       "    </tr>\n",
       "    <tr>\n",
       "      <th>4</th>\n",
       "      <td>402</td>\n",
       "      <td>83</td>\n",
       "      <td>36</td>\n",
       "      <td>124</td>\n",
       "      <td>2476</td>\n",
       "      <td>15492</td>\n",
       "    </tr>\n",
       "  </tbody>\n",
       "</table>\n",
       "</div>"
      ],
      "text/plain": [
       "   PUMA  unemployed_males_17_64  state  unemployed_females_17_64  \\\n",
       "0   100                      75     36                        79   \n",
       "1   200                     141     36                        74   \n",
       "2   300                      50     36                        42   \n",
       "3   401                      62     36                        23   \n",
       "4   402                      83     36                       124   \n",
       "\n",
       "   total_surveyed_population_17_64  total_pop  \n",
       "0                             1304      15725  \n",
       "1                             1782      23140  \n",
       "2                             1066      14491  \n",
       "3                              724      14933  \n",
       "4                             2476      15492  "
      ]
     },
     "execution_count": 144,
     "metadata": {},
     "output_type": "execute_result"
    }
   ],
   "source": [
    "puma_sums.head()"
   ]
  },
  {
   "cell_type": "code",
   "execution_count": 145,
   "metadata": {},
   "outputs": [],
   "source": [
    "puma_sums['total_unemployed'] = puma_sums['unemployed_males_17_64'] + puma_sums['unemployed_females_17_64']"
   ]
  },
  {
   "cell_type": "code",
   "execution_count": 149,
   "metadata": {},
   "outputs": [],
   "source": [
    "puma_sums['percent_unemployed'] = ((puma_sums.total_unemployed.astype(float)) / puma_sums.total_pop) * 100"
   ]
  },
  {
   "cell_type": "code",
   "execution_count": 151,
   "metadata": {},
   "outputs": [
    {
     "data": {
      "text/html": [
       "<div>\n",
       "<table border=\"1\" class=\"dataframe\">\n",
       "  <thead>\n",
       "    <tr style=\"text-align: right;\">\n",
       "      <th></th>\n",
       "      <th>PUMA</th>\n",
       "      <th>total_pop</th>\n",
       "      <th>percent_unemployed</th>\n",
       "    </tr>\n",
       "  </thead>\n",
       "  <tbody>\n",
       "    <tr>\n",
       "      <th>0</th>\n",
       "      <td>100</td>\n",
       "      <td>15725</td>\n",
       "      <td>0.979332</td>\n",
       "    </tr>\n",
       "    <tr>\n",
       "      <th>1</th>\n",
       "      <td>200</td>\n",
       "      <td>23140</td>\n",
       "      <td>0.929127</td>\n",
       "    </tr>\n",
       "    <tr>\n",
       "      <th>2</th>\n",
       "      <td>300</td>\n",
       "      <td>14491</td>\n",
       "      <td>0.634877</td>\n",
       "    </tr>\n",
       "    <tr>\n",
       "      <th>3</th>\n",
       "      <td>401</td>\n",
       "      <td>14933</td>\n",
       "      <td>0.569209</td>\n",
       "    </tr>\n",
       "    <tr>\n",
       "      <th>4</th>\n",
       "      <td>402</td>\n",
       "      <td>15492</td>\n",
       "      <td>1.336174</td>\n",
       "    </tr>\n",
       "  </tbody>\n",
       "</table>\n",
       "</div>"
      ],
      "text/plain": [
       "   PUMA  total_pop  percent_unemployed\n",
       "0   100      15725            0.979332\n",
       "1   200      23140            0.929127\n",
       "2   300      14491            0.634877\n",
       "3   401      14933            0.569209\n",
       "4   402      15492            1.336174"
      ]
     },
     "execution_count": 151,
     "metadata": {},
     "output_type": "execute_result"
    }
   ],
   "source": [
    "puma_sums[['PUMA', 'total_pop', 'percent_unemployed']].head()"
   ]
  },
  {
   "cell_type": "markdown",
   "metadata": {},
   "source": [
    "### 4 Obtain the PUMA spatial file"
   ]
  },
  {
   "cell_type": "code",
   "execution_count": 153,
   "metadata": {},
   "outputs": [
    {
     "name": "stdout",
     "output_type": "stream",
     "text": [
      "Archive:  puma.gz\n",
      "  inflating: /nfshome/mrn291/PUIData/geo_export_e30eaffa-2f49-48b0-83d8-178f95d8bd47.dbf  \n",
      "  inflating: /nfshome/mrn291/PUIData/geo_export_e30eaffa-2f49-48b0-83d8-178f95d8bd47.shp  \n",
      "  inflating: /nfshome/mrn291/PUIData/geo_export_e30eaffa-2f49-48b0-83d8-178f95d8bd47.shx  \n",
      "  inflating: /nfshome/mrn291/PUIData/geo_export_e30eaffa-2f49-48b0-83d8-178f95d8bd47.prj  \n"
     ]
    }
   ],
   "source": [
    "os.chdir(os.getenv(\"PUIDATA\"))\n",
    "puma_url = 'https://data.cityofnewyork.us/api/geospatial/cwiz-gcty?method=export&format=Shapefile'\n",
    "urllib.request.urlretrieve(puma_url, \"puma.gz\")\n",
    "!unzip -d $PUIDATA puma.gz"
   ]
  },
  {
   "cell_type": "code",
   "execution_count": 155,
   "metadata": {},
   "outputs": [],
   "source": [
    "puma_shapefile = 'geo_export_e30eaffa-2f49-48b0-83d8-178f95d8bd47.shp'\n",
    "puma_shapes = gpd.GeoDataFrame.from_file(puma_shapefile)"
   ]
  },
  {
   "cell_type": "code",
   "execution_count": 172,
   "metadata": {},
   "outputs": [
    {
     "data": {
      "text/html": [
       "<div>\n",
       "<table border=\"1\" class=\"dataframe\">\n",
       "  <thead>\n",
       "    <tr style=\"text-align: right;\">\n",
       "      <th></th>\n",
       "      <th>puma</th>\n",
       "      <th>shape_area</th>\n",
       "      <th>shape_leng</th>\n",
       "      <th>geometry</th>\n",
       "    </tr>\n",
       "  </thead>\n",
       "  <tbody>\n",
       "    <tr>\n",
       "      <th>0</th>\n",
       "      <td>3701</td>\n",
       "      <td>9.792852e+07</td>\n",
       "      <td>53227.144461</td>\n",
       "      <td>POLYGON ((-73.89641133483133 40.90450452082026...</td>\n",
       "    </tr>\n",
       "    <tr>\n",
       "      <th>1</th>\n",
       "      <td>3702</td>\n",
       "      <td>1.889860e+08</td>\n",
       "      <td>106050.002302</td>\n",
       "      <td>POLYGON ((-73.8442314689986 40.86942035096838,...</td>\n",
       "    </tr>\n",
       "    <tr>\n",
       "      <th>2</th>\n",
       "      <td>3703</td>\n",
       "      <td>2.670137e+08</td>\n",
       "      <td>304071.257466</td>\n",
       "      <td>(POLYGON ((-73.78833349834532 40.8346671297593...</td>\n",
       "    </tr>\n",
       "    <tr>\n",
       "      <th>3</th>\n",
       "      <td>3704</td>\n",
       "      <td>1.062129e+08</td>\n",
       "      <td>47970.901277</td>\n",
       "      <td>POLYGON ((-73.84792614069238 40.8713422330779,...</td>\n",
       "    </tr>\n",
       "    <tr>\n",
       "      <th>4</th>\n",
       "      <td>4015</td>\n",
       "      <td>8.105438e+07</td>\n",
       "      <td>50007.415493</td>\n",
       "      <td>POLYGON ((-73.95374853778468 40.63858633758547...</td>\n",
       "    </tr>\n",
       "  </tbody>\n",
       "</table>\n",
       "</div>"
      ],
      "text/plain": [
       "   puma    shape_area     shape_leng  \\\n",
       "0  3701  9.792852e+07   53227.144461   \n",
       "1  3702  1.889860e+08  106050.002302   \n",
       "2  3703  2.670137e+08  304071.257466   \n",
       "3  3704  1.062129e+08   47970.901277   \n",
       "4  4015  8.105438e+07   50007.415493   \n",
       "\n",
       "                                            geometry  \n",
       "0  POLYGON ((-73.89641133483133 40.90450452082026...  \n",
       "1  POLYGON ((-73.8442314689986 40.86942035096838,...  \n",
       "2  (POLYGON ((-73.78833349834532 40.8346671297593...  \n",
       "3  POLYGON ((-73.84792614069238 40.8713422330779,...  \n",
       "4  POLYGON ((-73.95374853778468 40.63858633758547...  "
      ]
     },
     "execution_count": 172,
     "metadata": {},
     "output_type": "execute_result"
    }
   ],
   "source": [
    "puma_shapes['puma'] = puma_shapes['puma'].astype(int)\n",
    "puma_shapes.head()"
   ]
  },
  {
   "cell_type": "code",
   "execution_count": 173,
   "metadata": {},
   "outputs": [],
   "source": [
    "bk_pumas = pumaUnemployment[pumaUnemployment.NAME.str.contains(\"Brooklyn\")]"
   ]
  },
  {
   "cell_type": "code",
   "execution_count": 174,
   "metadata": {},
   "outputs": [
    {
     "data": {
      "text/html": [
       "<div>\n",
       "<table border=\"1\" class=\"dataframe\">\n",
       "  <thead>\n",
       "    <tr style=\"text-align: right;\">\n",
       "      <th></th>\n",
       "      <th>unemployed_males_17_64</th>\n",
       "      <th>NAME</th>\n",
       "      <th>state</th>\n",
       "      <th>PUMA</th>\n",
       "      <th>unemployed_females_17_64</th>\n",
       "      <th>total_surveyed_population_17_64</th>\n",
       "      <th>total_pop</th>\n",
       "    </tr>\n",
       "  </thead>\n",
       "  <tbody>\n",
       "    <tr>\n",
       "      <th>113</th>\n",
       "      <td>85</td>\n",
       "      <td>NYC-Brooklyn Community District 1--Greenpoint ...</td>\n",
       "      <td>36</td>\n",
       "      <td>4001</td>\n",
       "      <td>139</td>\n",
       "      <td>2896</td>\n",
       "      <td>11560</td>\n",
       "    </tr>\n",
       "    <tr>\n",
       "      <th>114</th>\n",
       "      <td>149</td>\n",
       "      <td>NYC-Brooklyn Community District 4--Bushwick PU...</td>\n",
       "      <td>36</td>\n",
       "      <td>4002</td>\n",
       "      <td>171</td>\n",
       "      <td>3420</td>\n",
       "      <td>9103</td>\n",
       "    </tr>\n",
       "    <tr>\n",
       "      <th>115</th>\n",
       "      <td>97</td>\n",
       "      <td>NYC-Brooklyn Community District 3--Bedford-Stu...</td>\n",
       "      <td>36</td>\n",
       "      <td>4003</td>\n",
       "      <td>146</td>\n",
       "      <td>2422</td>\n",
       "      <td>10046</td>\n",
       "    </tr>\n",
       "    <tr>\n",
       "      <th>116</th>\n",
       "      <td>110</td>\n",
       "      <td>NYC-Brooklyn Community District 2--Brooklyn He...</td>\n",
       "      <td>36</td>\n",
       "      <td>4004</td>\n",
       "      <td>164</td>\n",
       "      <td>3571</td>\n",
       "      <td>11188</td>\n",
       "    </tr>\n",
       "    <tr>\n",
       "      <th>117</th>\n",
       "      <td>154</td>\n",
       "      <td>NYC-Brooklyn Community District 6--Park Slope,...</td>\n",
       "      <td>36</td>\n",
       "      <td>4005</td>\n",
       "      <td>66</td>\n",
       "      <td>3100</td>\n",
       "      <td>9244</td>\n",
       "    </tr>\n",
       "  </tbody>\n",
       "</table>\n",
       "</div>"
      ],
      "text/plain": [
       "     unemployed_males_17_64  \\\n",
       "113                      85   \n",
       "114                     149   \n",
       "115                      97   \n",
       "116                     110   \n",
       "117                     154   \n",
       "\n",
       "                                                  NAME  state  PUMA  \\\n",
       "113  NYC-Brooklyn Community District 1--Greenpoint ...     36  4001   \n",
       "114  NYC-Brooklyn Community District 4--Bushwick PU...     36  4002   \n",
       "115  NYC-Brooklyn Community District 3--Bedford-Stu...     36  4003   \n",
       "116  NYC-Brooklyn Community District 2--Brooklyn He...     36  4004   \n",
       "117  NYC-Brooklyn Community District 6--Park Slope,...     36  4005   \n",
       "\n",
       "     unemployed_females_17_64  total_surveyed_population_17_64  total_pop  \n",
       "113                       139                             2896      11560  \n",
       "114                       171                             3420       9103  \n",
       "115                       146                             2422      10046  \n",
       "116                       164                             3571      11188  \n",
       "117                        66                             3100       9244  "
      ]
     },
     "execution_count": 174,
     "metadata": {},
     "output_type": "execute_result"
    }
   ],
   "source": [
    "bk_pumas.head()"
   ]
  },
  {
   "cell_type": "code",
   "execution_count": 175,
   "metadata": {},
   "outputs": [],
   "source": [
    "bk_puma_shape = pd.merge(puma_shapes, bk_pumas, left_on = 'puma', right_on = 'PUMA')"
   ]
  },
  {
   "cell_type": "code",
   "execution_count": 178,
   "metadata": {},
   "outputs": [
    {
     "data": {
      "image/png": "[encoded data removed]",
      "text/plain": [
       "<matplotlib.figure.Figure at 0x7fd9456dbf60>"
      ]
     },
     "metadata": {},
     "output_type": "display_data"
    }
   ],
   "source": [
    "fig, ax = plt.subplots(figsize=(15,15))\n",
    "ax.set_aspect('equal')\n",
    "ax.axis('off')\n",
    "plt.title(\"NYC Public Use Microdata Areas\")\n",
    "bk_puma_shape.plot(ax=ax, color='white', edgecolor='black', lw=2)\n",
    "plt.show()"
   ]
  },
  {
   "cell_type": "markdown",
   "metadata": {},
   "source": [
    "Figure showing the public use microdistrict areas of Brooklyn"
   ]
  },
  {
   "cell_type": "markdown",
   "metadata": {},
   "source": [
    "# 5"
   ]
  },
  {
   "cell_type": "code",
   "execution_count": 179,
   "metadata": {},
   "outputs": [],
   "source": [
    "url = 'https://serv.cusp.nyu.edu/~fbianco/PUIdata/parkToPuma.csv'\n",
    "park_to_puma = pd.read_csv(url)"
   ]
  },
  {
   "cell_type": "code",
   "execution_count": 180,
   "metadata": {},
   "outputs": [
    {
     "data": {
      "text/html": [
       "<div>\n",
       "<table border=\"1\" class=\"dataframe\">\n",
       "  <thead>\n",
       "    <tr style=\"text-align: right;\">\n",
       "      <th></th>\n",
       "      <th>puma</th>\n",
       "      <th>condition</th>\n",
       "      <th>gispropnum</th>\n",
       "    </tr>\n",
       "  </thead>\n",
       "  <tbody>\n",
       "    <tr>\n",
       "      <th>0</th>\n",
       "      <td>4001</td>\n",
       "      <td>0.633277</td>\n",
       "      <td>52</td>\n",
       "    </tr>\n",
       "    <tr>\n",
       "      <th>1</th>\n",
       "      <td>4002</td>\n",
       "      <td>0.456086</td>\n",
       "      <td>17</td>\n",
       "    </tr>\n",
       "    <tr>\n",
       "      <th>2</th>\n",
       "      <td>4003</td>\n",
       "      <td>0.384951</td>\n",
       "      <td>23</td>\n",
       "    </tr>\n",
       "    <tr>\n",
       "      <th>3</th>\n",
       "      <td>4004</td>\n",
       "      <td>0.648573</td>\n",
       "      <td>49</td>\n",
       "    </tr>\n",
       "    <tr>\n",
       "      <th>4</th>\n",
       "      <td>4005</td>\n",
       "      <td>0.718519</td>\n",
       "      <td>29</td>\n",
       "    </tr>\n",
       "  </tbody>\n",
       "</table>\n",
       "</div>"
      ],
      "text/plain": [
       "   puma  condition  gispropnum\n",
       "0  4001   0.633277          52\n",
       "1  4002   0.456086          17\n",
       "2  4003   0.384951          23\n",
       "3  4004   0.648573          49\n",
       "4  4005   0.718519          29"
      ]
     },
     "execution_count": 180,
     "metadata": {},
     "output_type": "execute_result"
    }
   ],
   "source": [
    "park_to_puma.head()"
   ]
  },
  {
   "cell_type": "markdown",
   "metadata": {},
   "source": [
    "## 6"
   ]
  },
  {
   "cell_type": "code",
   "execution_count": 239,
   "metadata": {},
   "outputs": [],
   "source": [
    "skipping_url = 'https://serv.cusp.nyu.edu/~fbianco/PUIdata/parksFinal.csv'\n",
    "final_data = pd.read_csv(skipping_url)\n",
    "final_data.drop('geometry', axis=1, inplace=True)\n",
    "final_data = bk_puma_shape.merge(final_data, on='puma')"
   ]
  },
  {
   "cell_type": "code",
   "execution_count": 240,
   "metadata": {},
   "outputs": [],
   "source": [
    "final_data.crs = from_epsg(4326)"
   ]
  },
  {
   "cell_type": "code",
   "execution_count": 241,
   "metadata": {},
   "outputs": [
    {
     "data": {
      "text/html": [
       "<div>\n",
       "<table border=\"1\" class=\"dataframe\">\n",
       "  <thead>\n",
       "    <tr style=\"text-align: right;\">\n",
       "      <th></th>\n",
       "      <th>puma</th>\n",
       "      <th>shape_area</th>\n",
       "      <th>shape_leng</th>\n",
       "      <th>geometry</th>\n",
       "      <th>unemployed_males_17_64</th>\n",
       "      <th>NAME</th>\n",
       "      <th>state</th>\n",
       "      <th>PUMA</th>\n",
       "      <th>unemployed_females_17_64</th>\n",
       "      <th>total_surveyed_population_17_64</th>\n",
       "      <th>total_pop</th>\n",
       "      <th>Unnamed: 0</th>\n",
       "      <th>unemployedF</th>\n",
       "      <th>condition</th>\n",
       "      <th>parkcount</th>\n",
       "    </tr>\n",
       "  </thead>\n",
       "  <tbody>\n",
       "    <tr>\n",
       "      <th>0</th>\n",
       "      <td>4015</td>\n",
       "      <td>8.105438e+07</td>\n",
       "      <td>50007.415493</td>\n",
       "      <td>POLYGON ((-73.95374853778468 40.63858633758547...</td>\n",
       "      <td>69</td>\n",
       "      <td>NYC-Brooklyn Community District 14--Flatbush &amp;...</td>\n",
       "      <td>36</td>\n",
       "      <td>4015</td>\n",
       "      <td>166</td>\n",
       "      <td>2235</td>\n",
       "      <td>12580</td>\n",
       "      <td>0</td>\n",
       "      <td>0.105145</td>\n",
       "      <td>0.783784</td>\n",
       "      <td>9</td>\n",
       "    </tr>\n",
       "    <tr>\n",
       "      <th>1</th>\n",
       "      <td>4016</td>\n",
       "      <td>1.207135e+08</td>\n",
       "      <td>109477.751817</td>\n",
       "      <td>POLYGON ((-73.94405560932151 40.61199284173428...</td>\n",
       "      <td>57</td>\n",
       "      <td>NYC-Brooklyn Community District 15--Sheepshead...</td>\n",
       "      <td>36</td>\n",
       "      <td>4016</td>\n",
       "      <td>15</td>\n",
       "      <td>1292</td>\n",
       "      <td>13774</td>\n",
       "      <td>1</td>\n",
       "      <td>0.055728</td>\n",
       "      <td>0.636923</td>\n",
       "      <td>18</td>\n",
       "    </tr>\n",
       "    <tr>\n",
       "      <th>2</th>\n",
       "      <td>4006</td>\n",
       "      <td>6.184965e+07</td>\n",
       "      <td>42555.996557</td>\n",
       "      <td>POLYGON ((-73.95526963654763 40.67012490485409...</td>\n",
       "      <td>73</td>\n",
       "      <td>NYC-Brooklyn Community District 8--Crown Heigh...</td>\n",
       "      <td>36</td>\n",
       "      <td>4006</td>\n",
       "      <td>98</td>\n",
       "      <td>2656</td>\n",
       "      <td>8913</td>\n",
       "      <td>2</td>\n",
       "      <td>0.064383</td>\n",
       "      <td>0.587387</td>\n",
       "      <td>15</td>\n",
       "    </tr>\n",
       "    <tr>\n",
       "      <th>3</th>\n",
       "      <td>4011</td>\n",
       "      <td>4.762886e+07</td>\n",
       "      <td>34965.040151</td>\n",
       "      <td>POLYGON ((-73.92828249221591 40.66144706650274...</td>\n",
       "      <td>30</td>\n",
       "      <td>NYC-Brooklyn Community District 9--Crown Heigh...</td>\n",
       "      <td>36</td>\n",
       "      <td>4011</td>\n",
       "      <td>64</td>\n",
       "      <td>1395</td>\n",
       "      <td>7389</td>\n",
       "      <td>3</td>\n",
       "      <td>0.067384</td>\n",
       "      <td>0.624242</td>\n",
       "      <td>8</td>\n",
       "    </tr>\n",
       "    <tr>\n",
       "      <th>4</th>\n",
       "      <td>4012</td>\n",
       "      <td>1.123044e+08</td>\n",
       "      <td>97261.951304</td>\n",
       "      <td>POLYGON ((-73.99684490483776 40.66903132477106...</td>\n",
       "      <td>0</td>\n",
       "      <td>NYC-Brooklyn Community District 7--Sunset Park...</td>\n",
       "      <td>36</td>\n",
       "      <td>4012</td>\n",
       "      <td>148</td>\n",
       "      <td>3031</td>\n",
       "      <td>11441</td>\n",
       "      <td>4</td>\n",
       "      <td>0.048829</td>\n",
       "      <td>0.516839</td>\n",
       "      <td>23</td>\n",
       "    </tr>\n",
       "  </tbody>\n",
       "</table>\n",
       "</div>"
      ],
      "text/plain": [
       "   puma    shape_area     shape_leng  \\\n",
       "0  4015  8.105438e+07   50007.415493   \n",
       "1  4016  1.207135e+08  109477.751817   \n",
       "2  4006  6.184965e+07   42555.996557   \n",
       "3  4011  4.762886e+07   34965.040151   \n",
       "4  4012  1.123044e+08   97261.951304   \n",
       "\n",
       "                                            geometry  unemployed_males_17_64  \\\n",
       "0  POLYGON ((-73.95374853778468 40.63858633758547...                      69   \n",
       "1  POLYGON ((-73.94405560932151 40.61199284173428...                      57   \n",
       "2  POLYGON ((-73.95526963654763 40.67012490485409...                      73   \n",
       "3  POLYGON ((-73.92828249221591 40.66144706650274...                      30   \n",
       "4  POLYGON ((-73.99684490483776 40.66903132477106...                       0   \n",
       "\n",
       "                                                NAME  state  PUMA  \\\n",
       "0  NYC-Brooklyn Community District 14--Flatbush &...     36  4015   \n",
       "1  NYC-Brooklyn Community District 15--Sheepshead...     36  4016   \n",
       "2  NYC-Brooklyn Community District 8--Crown Heigh...     36  4006   \n",
       "3  NYC-Brooklyn Community District 9--Crown Heigh...     36  4011   \n",
       "4  NYC-Brooklyn Community District 7--Sunset Park...     36  4012   \n",
       "\n",
       "   unemployed_females_17_64  total_surveyed_population_17_64  total_pop  \\\n",
       "0                       166                             2235      12580   \n",
       "1                        15                             1292      13774   \n",
       "2                        98                             2656       8913   \n",
       "3                        64                             1395       7389   \n",
       "4                       148                             3031      11441   \n",
       "\n",
       "   Unnamed: 0  unemployedF  condition  parkcount  \n",
       "0           0     0.105145   0.783784          9  \n",
       "1           1     0.055728   0.636923         18  \n",
       "2           2     0.064383   0.587387         15  \n",
       "3           3     0.067384   0.624242          8  \n",
       "4           4     0.048829   0.516839         23  "
      ]
     },
     "execution_count": 241,
     "metadata": {},
     "output_type": "execute_result"
    }
   ],
   "source": [
    "final_data.head()"
   ]
  },
  {
   "cell_type": "code",
   "execution_count": 242,
   "metadata": {},
   "outputs": [
    {
     "data": {
      "image/png": "[encoded data removed]",
      "text/plain": [
       "<matplotlib.figure.Figure at 0x7fd94568e0b8>"
      ]
     },
     "metadata": {},
     "output_type": "display_data"
    }
   ],
   "source": [
    "fig, ax = plt.subplots()\n",
    "ax.set_aspect('equal')\n",
    "ax.axis('off')\n",
    "plt.title(\"Percent Unemployed\")\n",
    "final_data.plot(ax=ax, cmap='viridis', column='unemployedF', edgecolor='black', lw=2, legend=True)\n",
    "plt.show()\n"
   ]
  },
  {
   "cell_type": "code",
   "execution_count": 245,
   "metadata": {},
   "outputs": [
    {
     "data": {
      "image/png": "[encoded data removed]",
      "text/plain": [
       "<matplotlib.figure.Figure at 0x7fd938101f98>"
      ]
     },
     "metadata": {},
     "output_type": "display_data"
    }
   ],
   "source": [
    "fig, ax = plt.subplots()\n",
    "ax.set_aspect('equal')\n",
    "ax.axis('off')\n",
    "plt.title(\"Park Condition\")\n",
    "final_data.plot(ax=ax, cmap='viridis', column='condition', edgecolor='black', lw=2, legend=True)\n",
    "plt.show()"
   ]
  },
  {
   "cell_type": "code",
   "execution_count": 246,
   "metadata": {},
   "outputs": [
    {
     "data": {
      "image/png": "[encoded data removed]",
      "text/plain": [
       "<matplotlib.figure.Figure at 0x7fd9380637b8>"
      ]
     },
     "metadata": {},
     "output_type": "display_data"
    }
   ],
   "source": [
    "fig, ax = plt.subplots()\n",
    "ax.set_aspect('equal')\n",
    "ax.axis('off')\n",
    "plt.title(\"Park Count\")\n",
    "final_data.plot(ax=ax, cmap='viridis', column='parkcount', edgecolor='black', lw=2, legend=True)\n",
    "plt.show()"
   ]
  },
  {
   "cell_type": "markdown",
   "metadata": {},
   "source": [
    "### 8"
   ]
  },
  {
   "cell_type": "code",
   "execution_count": 201,
   "metadata": {},
   "outputs": [
    {
     "data": {
      "text/plain": [
       "<matplotlib.axes._subplots.AxesSubplot at 0x7fd944e3d7b8>"
      ]
     },
     "execution_count": 201,
     "metadata": {},
     "output_type": "execute_result"
    },
    {
     "data": {
      "image/png": "[encoded data removed]",
      "text/plain": [
       "<matplotlib.figure.Figure at 0x7fd944eaee80>"
      ]
     },
     "metadata": {},
     "output_type": "display_data"
    }
   ],
   "source": [
    "final_data['unemployedF'].hist()"
   ]
  },
  {
   "cell_type": "code",
   "execution_count": 202,
   "metadata": {},
   "outputs": [
    {
     "data": {
      "text/plain": [
       "<matplotlib.axes._subplots.AxesSubplot at 0x7fd944e9c550>"
      ]
     },
     "execution_count": 202,
     "metadata": {},
     "output_type": "execute_result"
    },
    {
     "data": {
      "image/png": "[encoded data removed]",
      "text/plain": [
       "<matplotlib.figure.Figure at 0x7fd944eab7f0>"
      ]
     },
     "metadata": {},
     "output_type": "display_data"
    }
   ],
   "source": [
    "final_data['condition'].hist()"
   ]
  },
  {
   "cell_type": "code",
   "execution_count": 203,
   "metadata": {},
   "outputs": [
    {
     "data": {
      "text/plain": [
       "<matplotlib.axes._subplots.AxesSubplot at 0x7fd944dfb828>"
      ]
     },
     "execution_count": 203,
     "metadata": {},
     "output_type": "execute_result"
    },
    {
     "data": {
      "image/png": "[encoded data removed]",
      "text/plain": [
       "<matplotlib.figure.Figure at 0x7fd944e221d0>"
      ]
     },
     "metadata": {},
     "output_type": "display_data"
    }
   ],
   "source": [
    "final_data['parkcount'].hist()"
   ]
  },
  {
   "cell_type": "markdown",
   "metadata": {},
   "source": [
    "I ran out of time to run the test but from eyeballing, I'd say maybe unemployed is gaussian but the others aren't looking too gaussian-y on first glance."
   ]
  },
  {
   "cell_type": "markdown",
   "metadata": {},
   "source": [
    "#### 10. Measure correlation between parks condition and unemployment.  Your deliverable is a measure of correlation for each variable and an explanation of what they mean"
   ]
  },
  {
   "cell_type": "code",
   "execution_count": 206,
   "metadata": {},
   "outputs": [
    {
     "data": {
      "text/plain": [
       "(-0.03845184142400597, 0.87959657055945695)"
      ]
     },
     "execution_count": 206,
     "metadata": {},
     "output_type": "execute_result"
    }
   ],
   "source": [
    "scipy.stats.pearsonr(final_data.unemployedF, final_data.parkcount)"
   ]
  },
  {
   "cell_type": "code",
   "execution_count": 210,
   "metadata": {},
   "outputs": [
    {
     "data": {
      "text/plain": [
       "[<matplotlib.lines.Line2D at 0x7fd945117a90>]"
      ]
     },
     "execution_count": 210,
     "metadata": {},
     "output_type": "execute_result"
    },
    {
     "data": {
      "image/png": "[encoded data removed]",
      "text/plain": [
       "<matplotlib.figure.Figure at 0x7fd945117b38>"
      ]
     },
     "metadata": {},
     "output_type": "display_data"
    }
   ],
   "source": [
    "fig, ax = plt.subplots()\n",
    "ax.set_xlabel(\"percent_unemployed\", fontsize=20)\n",
    "ax.set_ylabel(\"parks\", fontsize=20)\n",
    "plt.plot(final_data.unemployedF, final_data.parkcount, 'ro')"
   ]
  },
  {
   "cell_type": "markdown",
   "metadata": {},
   "source": [
    "Figure showing pretty the relationship between the number of parks in a PUMA and the percent unemployed in that PUMA.  A Pearson's r statistic calculated for this relationship is -0.038, indicating a very slight negative relationship, but the alpha is .880 so we can't reject the null hypothesis that there is no relationship between the number of parks in the puma and the percent unemployed in the PUMA."
   ]
  },
  {
   "cell_type": "markdown",
   "metadata": {},
   "source": [
    "### 11. Test if the average park condition is significantly different for PUMAs with an unemployment fraction greater than 0.05 and lower then 0.05"
   ]
  },
  {
   "cell_type": "markdown",
   "metadata": {},
   "source": [
    "Null hypothesis: the average park condition for PUMAs with unemployment fractions greater than or equal to 0.05 is the same as the average park condition for pumas with unemployment fractions less than 0.05.\n",
    "\n",
    "alternative: the average park condition for PUMAs with unemployment fractions greater than or equal to 0.05 is greater than or less than the average park condition for pumas with unemployment fractions less than 0.05, but not equal to.\n",
    "\n",
    "I'm adding the equal to condition since it's not mentioned in the question.\n",
    "\n",
    "Alpha = 0.05"
   ]
  },
  {
   "cell_type": "code",
   "execution_count": 219,
   "metadata": {},
   "outputs": [],
   "source": [
    "avg_over_fraction = final_data[final_data['unemployedF'] >= 0.05]\n",
    "mean_over_fraction = avg_over_fraction.condition.mean()"
   ]
  },
  {
   "cell_type": "code",
   "execution_count": 220,
   "metadata": {},
   "outputs": [],
   "source": [
    "avg_under_fraction = final_data[final_data['unemployedF'] < 0.05]\n",
    "mean_under_fraction = avg_under_fraction.condition.mean()"
   ]
  },
  {
   "cell_type": "code",
   "execution_count": 222,
   "metadata": {},
   "outputs": [
    {
     "name": "stdout",
     "output_type": "stream",
     "text": [
      "0.578375123965 0.454140545543\n"
     ]
    }
   ],
   "source": [
    "print(mean_over_fraction, mean_under_fraction)"
   ]
  },
  {
   "cell_type": "code",
   "execution_count": 223,
   "metadata": {},
   "outputs": [],
   "source": [
    "N = len(final_data)"
   ]
  },
  {
   "cell_type": "code",
   "execution_count": 227,
   "metadata": {},
   "outputs": [],
   "source": [
    "sigma = np.std(avg_over_fraction['condition'])"
   ]
  },
  {
   "cell_type": "code",
   "execution_count": 229,
   "metadata": {},
   "outputs": [],
   "source": [
    "Z = (mean_over_fraction - mean_under_fraction) / (sigma / np.sqrt(N))"
   ]
  },
  {
   "cell_type": "code",
   "execution_count": 231,
   "metadata": {},
   "outputs": [
    {
     "name": "stdout",
     "output_type": "stream",
     "text": [
      "The Z score is 4.483750\n"
     ]
    }
   ],
   "source": [
    "print(\"The Z score is %f\"%Z)"
   ]
  },
  {
   "cell_type": "markdown",
   "metadata": {},
   "source": [
    "#### The Z score is 2.6 which is greater than two standard deviations from the mean, which means that there is a less than 5% chance of randomly observing the new population mean, so we can reject the null hypothesis that there is no difference between the average park condition in PUMAs with high unemployement and PUMAs with low unemployment"
   ]
  },
  {
   "cell_type": "code",
   "execution_count": null,
   "metadata": {},
   "outputs": [],
   "source": []
  }
 ],
 "metadata": {
  "kernelspec": {
   "display_name": "PUI2016_Python3",
   "language": "python",
   "name": "pui2016_python3"
  },
  "language_info": {
   "codemirror_mode": {
    "name": "ipython",
    "version": 3
   },
   "file_extension": ".py",
   "mimetype": "text/x-python",
   "name": "python",
   "nbconvert_exporter": "python",
   "pygments_lexer": "ipython3",
   "version": "3.5.4"
  }
 },
 "nbformat": 4,
 "nbformat_minor": 2
}
